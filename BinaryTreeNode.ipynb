{
 "cells": [
  {
   "cell_type": "code",
   "execution_count": 4,
   "id": "b6664314-dc2d-45be-870e-6a88a6492c93",
   "metadata": {
    "tags": []
   },
   "outputs": [],
   "source": [
    "#이진 트리 표현 방법\n",
    "class BinaryTreeNode:\n",
    "    def __init__(self,data):\n",
    "        self.data = data\n",
    "        self.left = None\n",
    "        self.right = None"
   ]
  },
  {
   "cell_type": "code",
   "execution_count": 5,
   "id": "b90bafa3-b4c2-4695-99f7-ab6b95d2163e",
   "metadata": {
    "tags": []
   },
   "outputs": [],
   "source": [
    "n1 = BinaryTreeNode(93) # n1의 값은 93\n",
    "n2 = BinaryTreeNode(15)\n",
    "n3 = BinaryTreeNode(19)\n",
    "n4= BinaryTreeNode(36)\n",
    "n5= BinaryTreeNode(44)\n",
    "n6= BinaryTreeNode(72)\n",
    "n7= BinaryTreeNode(83)"
   ]
  },
  {
   "cell_type": "code",
   "execution_count": 6,
   "id": "9fbe732c-8c49-4e66-92ed-553a30e7ca5c",
   "metadata": {
    "tags": []
   },
   "outputs": [],
   "source": [
    "n1.left = n2 # n1의 왼쪽 자식은 n2\n",
    "n1.right = n3 # n1의 오른쪽 자식은 n3\n",
    "n2.left = n4\n",
    "n2.right = n5\n",
    "n5.left = n6\n",
    "n5.right = n7"
   ]
  },
  {
   "cell_type": "code",
   "execution_count": 7,
   "id": "85595912-7276-402d-89a6-b69858e9329f",
   "metadata": {
    "tags": []
   },
   "outputs": [
    {
     "data": {
      "text/plain": [
       "36"
      ]
     },
     "execution_count": 7,
     "metadata": {},
     "output_type": "execute_result"
    }
   ],
   "source": [
    "n2.left.data"
   ]
  }
 ],
 "metadata": {
  "kernelspec": {
   "display_name": "Python 3 (ipykernel)",
   "language": "python",
   "name": "python3"
  },
  "language_info": {
   "codemirror_mode": {
    "name": "ipython",
    "version": 3
   },
   "file_extension": ".py",
   "mimetype": "text/x-python",
   "name": "python",
   "nbconvert_exporter": "python",
   "pygments_lexer": "ipython3",
   "version": "3.11.5"
  }
 },
 "nbformat": 4,
 "nbformat_minor": 5
}
