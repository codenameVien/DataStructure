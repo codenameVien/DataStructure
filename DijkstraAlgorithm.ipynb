{
 "cells": [
  {
   "cell_type": "code",
   "execution_count": 12,
   "id": "d80f568b-f8b8-4dbc-8c06-0b6e4bae4fee",
   "metadata": {},
   "outputs": [],
   "source": [
    "from heapq import heappush, heappop"
   ]
  },
  {
   "cell_type": "code",
   "execution_count": 13,
   "id": "8e53ad67-2587-4763-92ac-53555a920752",
   "metadata": {},
   "outputs": [],
   "source": [
    "G = [[0, 50, 0, 10, 0],\n",
    "    [0, 0, 50, 0, 0], \n",
    "    [0, 40, 0, 0, 20],\n",
    "    [0, 30, 0, 0, 0],\n",
    "    [0, 10, 0, 0, 0]]\n",
    "\n",
    "V = [\"A\", \"B\", \"C\", \"D\", \"E\"]"
   ]
  },
  {
   "cell_type": "code",
   "execution_count": 14,
   "id": "aa5af22b-cf41-46be-b419-7049d0e7f95e",
   "metadata": {},
   "outputs": [],
   "source": [
    "# 다익스트라는 프림과 코드가 거의 똑같다\n",
    "def Dijkstra_Algorithm(graph, graph_v, start):\n",
    "    h = list() # 힙정의\n",
    "    \n",
    "    # 각 노드가 연결되었는지 안 연결되었는지 확인\n",
    "    connect = list()\n",
    "    for i in range(0, len(graph)): # 모든 노드에 대하여 \n",
    "        connect.append(False) # 모든 노드를 미연결 상태로 초기화\n",
    "                              # 이후\n",
    "                              # 처음 상태 (F,F,F,F,F)에서 \n",
    "                              # A노드(내가 시작할 놈으로 선택한 노드)가 연결되었으면\n",
    "                              # (T,F,F,F,F)로 변경\n",
    "        \n",
    "    heappush(h, (0, start)) #시작 정점을 힙에 추가, 가중치 0으로 시작 (가중치, 점정))\n",
    "    \n",
    "    while len(h) > 0: # 힙 h가 비어있지 않다면 \n",
    "        pop_info = heappop(h) # 가장 짧은 소요시간이 걸리는 노드를 힙에서 pop (최단거리)\n",
    "        \n",
    "        #pop한 노드의 정보를 저장\n",
    "        pop_weight = pop_info[0] # pop_info[0] : pop한 노드의 첫번쨰 요소인 가중치\n",
    "        pop_node = pop_info[1] # pop_info[1] : pop한 노드의 두번째 요소인 정점\n",
    "        \n",
    "        if connect[pop_node] == False: # pop한 노드가 연결되지 않은 상태라면,\n",
    "            connect[pop_node] = True # 해당 노드를 연결된 상태로 설정\n",
    "            print(graph_v[start], '->', graph_v[pop_node], '최단 거리:', pop_weight)\n",
    "            \n",
    "            # 아직 방문하지 않은 정점들에 대해서 소요시간 업데이트 \n",
    "            for i in range(0, len(graph)):\n",
    "                if (graph[pop_node][i] != 0) and (connect[i] == False): #간선이 존재하고, 연결되지 않은 정점 i가 있다면\n",
    "                    heappush(h, (pop_weight + graph[pop_node][i], i)) # (update된 소요시간, 노드 i)를 힙 h에 삽입push"
   ]
  },
  {
   "cell_type": "code",
   "execution_count": 15,
   "id": "6148f213-0dd2-4b26-9a86-7e0f8de7615a",
   "metadata": {},
   "outputs": [
    {
     "name": "stdout",
     "output_type": "stream",
     "text": [
      "A -> A 최단 거리: 0\n",
      "A -> D 최단 거리: 10\n",
      "A -> B 최단 거리: 40\n",
      "A -> C 최단 거리: 90\n",
      "A -> E 최단 거리: 110\n"
     ]
    }
   ],
   "source": [
    "Dijkstra_Algorithm(G, V, 0)"
   ]
  }
 ],
 "metadata": {
  "kernelspec": {
   "display_name": "Python 3 (ipykernel)",
   "language": "python",
   "name": "python3"
  },
  "language_info": {
   "codemirror_mode": {
    "name": "ipython",
    "version": 3
   },
   "file_extension": ".py",
   "mimetype": "text/x-python",
   "name": "python",
   "nbconvert_exporter": "python",
   "pygments_lexer": "ipython3",
   "version": "3.11.5"
  }
 },
 "nbformat": 4,
 "nbformat_minor": 5
}
