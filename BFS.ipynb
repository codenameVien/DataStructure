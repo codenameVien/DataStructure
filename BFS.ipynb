{
 "cells": [
  {
   "cell_type": "code",
   "execution_count": 7,
   "id": "b603cd7c-bf1d-4f21-9a14-a346d42421b1",
   "metadata": {
    "tags": []
   },
   "outputs": [],
   "source": [
    "def BFS(graph, start_node): # 그래프 graph에서 시작 노드를 node로 할거에요\n",
    "    visit = list()\n",
    "    queue = list() \n",
    "    # visit은 내가 방문한 노드들을 기록해주는 놈\n",
    "    # queue는 현재 그래프 상태를 의미\n",
    "    visit.append(start_node) # 내가 처음에 방문하기로 선택했던 놈을 방문해주어요\n",
    "    queue.append(start_node) # 내가 처음에 방문하기로 선택했던 놈을 방문해주어요\n",
    "    while len(queue) > 0: # 큐에서 원소가 다 없어질때까지 반복 (아래 dequeue 있잔앙~)\n",
    "        for each_node in graph[queue[0]]: # 그래프를 딕셔너리로 표현해줌\n",
    "            if (each_node in visit) ==False: # to.큐의 최전방 원소에게..\n",
    "                                             # 너랑 인접한 노드가\n",
    "                                             # visit(방문한) 리스트에 있니..?\n",
    "                                             # 없다면\n",
    "                visit.append(each_node) # 방문 리스트와 큐에 추가하도록 하자\n",
    "                queue.append(each_node)\n",
    "        del queue[0] # 최전방 원소 삭제 \n",
    "        \n",
    "    return visit # 이거는 내가 무슨무슨 노드를 방문했다!를 나타내는 거기 때문에"
   ]
  },
  {
   "cell_type": "code",
   "execution_count": 8,
   "id": "0daff8ba-07a1-452a-a445-6d8415f444db",
   "metadata": {
    "tags": []
   },
   "outputs": [],
   "source": [
    "G = {0: [1,2], 1:[0,2,3], 2:[0,1,4], 3: [1,4], 4: [2,3,5], 5:[4,6], 6: [5]}\n",
    "    # 0이랑 인접한 애는 1,2"
   ]
  },
  {
   "cell_type": "code",
   "execution_count": 9,
   "id": "a26c3631-4826-400d-a1bb-333f906089eb",
   "metadata": {
    "tags": []
   },
   "outputs": [
    {
     "name": "stdout",
     "output_type": "stream",
     "text": [
      "[4, 2, 3, 5, 0, 1, 6]\n"
     ]
    }
   ],
   "source": [
    "print(BFS(G,4)) # 시작노드를 4로 할꺼야!"
   ]
  }
 ],
 "metadata": {
  "kernelspec": {
   "display_name": "Python 3 (ipykernel)",
   "language": "python",
   "name": "python3"
  },
  "language_info": {
   "codemirror_mode": {
    "name": "ipython",
    "version": 3
   },
   "file_extension": ".py",
   "mimetype": "text/x-python",
   "name": "python",
   "nbconvert_exporter": "python",
   "pygments_lexer": "ipython3",
   "version": "3.11.5"
  }
 },
 "nbformat": 4,
 "nbformat_minor": 5
}
