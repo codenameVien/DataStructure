{
 "cells": [
  {
   "cell_type": "code",
   "execution_count": 1,
   "id": "b603cd7c-bf1d-4f21-9a14-a346d42421b1",
   "metadata": {
    "tags": []
   },
   "outputs": [],
   "source": [
    "def BFS(graph, start_node): # start_node : 가장 처음에 방문할 노드 \n",
    "    visit = list() # 내가 방문한 노드들을 기록해주는 visit 리스트\n",
    "    queue = list() # 현재 그래프의 상태를 나타내는 queue\n",
    "    \n",
    "    visit.append(start_node) # start_node를 방문 리스트에 추가\n",
    "    queue.append(start_node) # start_node를 queue에 추가\n",
    "\n",
    "    while len(queue) >0: # queue에 아직 원소가 남아있다면, \n",
    "        for each_node in graph[queue[0]]: # queue의 첫번쨰 원소와 연결된 모든 노드(each_node)에 대하여 반복\n",
    "            if (each_node in visit) == False: # queue의 첫번째 원소와 연결된 모든 노드가 아직 방문되지 않았다면, \n",
    "                visit.append(each_node) # 방문 리스트에 해당 노드들을 추가\n",
    "                queue.append(each_node) # 큐에 해당 노드들을 추가\n",
    "    \n",
    "        del queue[0] # 큐의 첫번쨰 원소를 제거 (dequeue)\n",
    "\n",
    "    return visit # 방문한 노드들의 리스트를 반환\n"
   ]
  },
  {
   "cell_type": "code",
   "execution_count": 2,
   "id": "0daff8ba-07a1-452a-a445-6d8415f444db",
   "metadata": {
    "tags": []
   },
   "outputs": [],
   "source": [
    "G = {0: [1,2], 1:[0,2,3], 2:[0,1,4], 3: [1,4], 4: [2,3,5], 5:[4,6], 6: [5]}\n",
    "    # 0이랑 인접한 애는 1,2"
   ]
  },
  {
   "cell_type": "code",
   "execution_count": 3,
   "id": "a26c3631-4826-400d-a1bb-333f906089eb",
   "metadata": {
    "tags": []
   },
   "outputs": [
    {
     "name": "stdout",
     "output_type": "stream",
     "text": [
      "[4, 2, 3, 5, 0, 1, 6]\n"
     ]
    }
   ],
   "source": [
    "print(BFS(G,4)) # 시작노드를 4로 할꺼야!"
   ]
  }
 ],
 "metadata": {
  "kernelspec": {
   "display_name": "Python 3 (ipykernel)",
   "language": "python",
   "name": "python3"
  },
  "language_info": {
   "codemirror_mode": {
    "name": "ipython",
    "version": 3
   },
   "file_extension": ".py",
   "mimetype": "text/x-python",
   "name": "python",
   "nbconvert_exporter": "python",
   "pygments_lexer": "ipython3",
   "version": "3.11.5"
  }
 },
 "nbformat": 4,
 "nbformat_minor": 5
}
