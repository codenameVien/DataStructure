{
 "cells": [
  {
   "cell_type": "code",
   "execution_count": 1,
   "id": "c2b452df-573d-47e5-a370-79fc5e446d99",
   "metadata": {
    "tags": []
   },
   "outputs": [],
   "source": [
    "from heapq import heappush, heappop"
   ]
  },
  {
   "cell_type": "code",
   "execution_count": 2,
   "id": "180f1df4-e1d5-4cc3-b154-e6cb580c02f8",
   "metadata": {
    "tags": []
   },
   "outputs": [],
   "source": [
    "# 노드간의 가중치를 나타냄\n",
    "# G[i][j]는 노드 i와 노드 j 사이의 가중치를 나타냄\n",
    "#0은 가중치가 없을 의미\n",
    "#차례대로 \n",
    "# 노드 A와 다른 노드들 간의 가중치\n",
    "# 노드 B와 다른 노드들 간의 가중치\n",
    "# 노드 C와 다른 노드들 간의 가중치\n",
    "# 노드 D와 다른 노드들 간의 가중치\n",
    "# 노드 E와 다른 노드들 간의 가중치\n",
    "# ex, \n",
    "# G[0][1] = 30 : 노드 A와 노드 B 사이의 가중치는 30\n",
    "# G[0][0] = 0 : 노드 A와 자신 사이에는 간선이 없음\n",
    "G = [[0, 30, 42, 0, 0],\n",
    "    [30, 0, 17, 28, 0], \n",
    "    [42, 17, 0, 22, 19],\n",
    "    [0, 28, 22, 0, 15],\n",
    "    [0, 0, 19, 15, 0]]\n",
    "\n",
    "# 노드의 이름 목록, 각 인덱스는 그래프 'G'와 대응됨\n",
    "V = [\"A\", \"B\", \"C\", \"D\", \"E\"]"
   ]
  },
  {
   "cell_type": "code",
   "execution_count": 3,
   "id": "b0d19840-42c0-4985-a211-c3d822cd2285",
   "metadata": {
    "tags": []
   },
   "outputs": [],
   "source": [
    "def Prim_Algorithm(graph, graph_v, start):\n",
    "    h = list() #heap 정의\n",
    "\n",
    "    connect = list() # connect : 각 노드가 MST에 포함되었는지 여부를 저장하는 리스트\n",
    "    \n",
    "    for i in range(0, len(graph)): # 모든 노드에 대하여 \n",
    "        connect.append(False) # 모든 노드를 미연결 상태로 초기화\n",
    "                                # 이후\n",
    "                                # 처음 상태 (F,F,F,F,F)에서 \n",
    "                                # A노드(내가 시작할 놈으로 선택한 노드)가 연결되었으면\n",
    "                                # (T,F,F,F,F)로 변경\n",
    "                                # O(1)의 시간 복잡도 (하나하나 탐색하므로)\n",
    "\n",
    "    heappush(h, (0, start)) #시작 정점을 힙에 추가, 가중치 0으로 시작 (가중치, 점정))\n",
    "\n",
    "    total_weight = 0 #가중치 합 저장 변수 \n",
    "    vertex_count = 0 # 연결된 정점의 개수 \n",
    "\n",
    "    while vertex_count < len(graph): # 현재 거쳐간 노드 개수 < 총 노드 개수 라면\n",
    "        pop_info = heappop(h) # 가장 작은 가중치를 가진 노드를 힙에서 pop\n",
    "\n",
    "        #pop한 노드의 정보를 저장\n",
    "        pop_weight = pop_info[0] # pop_info[0] : pop한 노드의 첫번쨰 요소인 가중치\n",
    "        pop_vertex = pop_info[1] # pop_info[1] : pop한 노드의 두번째 요소인 정점\n",
    "\n",
    "        if connect[pop_vertex] == False: # pop한 노드가 연결되지 않은 상태라면,\n",
    "            connect[pop_vertex] = True # 해당 노드를 연결된 상태로 설정\n",
    "            total_weight += pop_weight # 가중치 총합에 pop 한 노드의 가중치 추가\n",
    "            vertex_count += 1 # 연결된 정점 개수를 증가\n",
    "\n",
    "            print(\"새로 연결된 곳 :\", graph_v[pop_vertex]) # 연결된 정점 출력\n",
    "            print(\"누적 가중치 합 : \", total_weight) # 누적 가중치 출력\n",
    "            \n",
    "            for i in range(0, len(graph)): # 모든 노드에 대하여\n",
    "                if (graph[pop_vertex][i] != 0)and (connect[i]==False):  #간선이 존재하고, 연결되지 않은 정점 i가 있다면\n",
    "                    heappush(h, (graph[pop_vertex][i], i)) # (i의 가중치, 노드 i)를 힙 h에 삽입push\n"
   ]
  },
  {
   "cell_type": "code",
   "execution_count": 4,
   "id": "65c942ee-6539-4b5e-8891-abfd95397559",
   "metadata": {
    "tags": []
   },
   "outputs": [
    {
     "name": "stdout",
     "output_type": "stream",
     "text": [
      "새로 연결된 곳: B\n",
      "누적 가중치 합: 0\n",
      "새로 연결된 곳: C\n",
      "누적 가중치 합: 17\n",
      "새로 연결된 곳: E\n",
      "누적 가중치 합: 36\n",
      "새로 연결된 곳: D\n",
      "누적 가중치 합: 51\n",
      "새로 연결된 곳: A\n",
      "누적 가중치 합: 81\n"
     ]
    }
   ],
   "source": [
    "Prim_Algorithm(G, V, 1)\n",
    "# 정점 B에서 시작하는 이유는 바로 위에 start 값이 1로 주어졌잖아요"
   ]
  }
 ],
 "metadata": {
  "kernelspec": {
   "display_name": "Python 3 (ipykernel)",
   "language": "python",
   "name": "python3"
  },
  "language_info": {
   "codemirror_mode": {
    "name": "ipython",
    "version": 3
   },
   "file_extension": ".py",
   "mimetype": "text/x-python",
   "name": "python",
   "nbconvert_exporter": "python",
   "pygments_lexer": "ipython3",
   "version": "3.11.5"
  }
 },
 "nbformat": 4,
 "nbformat_minor": 5
}
