{
 "cells": [
  {
   "cell_type": "code",
   "execution_count": 1,
   "id": "c2b452df-573d-47e5-a370-79fc5e446d99",
   "metadata": {
    "tags": []
   },
   "outputs": [],
   "source": [
    "from heapq import heappush, heappop"
   ]
  },
  {
   "cell_type": "code",
   "execution_count": 2,
   "id": "180f1df4-e1d5-4cc3-b154-e6cb580c02f8",
   "metadata": {
    "tags": []
   },
   "outputs": [],
   "source": [
    "G = [[0, 30, 42, 0, 0],\n",
    "    [30, 0, 17, 28, 0], \n",
    "    [42, 17, 0, 22, 19],\n",
    "    [0, 28, 22, 0, 15],\n",
    "    [0, 0, 19, 15, 0]]\n",
    "\n",
    "V = [\"A\", \"B\", \"C\", \"D\", \"E\"]"
   ]
  },
  {
   "cell_type": "code",
   "execution_count": 3,
   "id": "b0d19840-42c0-4985-a211-c3d822cd2285",
   "metadata": {
    "tags": []
   },
   "outputs": [],
   "source": [
    "def Prim_Algorithm(graph, graph_v, start):\n",
    "    h = list() #heap 정의\n",
    "    \n",
    "    # 각 정점이 연결되었나 안되었나를 표시 \n",
    "    # 처음 상태 (F,F,F,F,F)에서 \n",
    "    # A노드(내가 시작할 놈으로 선택한 노드)가 연결되었으면\n",
    "    # (T,F,F,F,F)로 변경\n",
    "    # O(1)의 시간 복잡도 (하나하나 탐색하므로)\n",
    "    connect = list()\n",
    "    for i in range(0, len(graph)):\n",
    "        connect.append(False)\n",
    "    \n",
    "    heappush(h, (0, start)) # 힙 h에다가 (0, start)를 푸시\n",
    "                            # start를 연결하는데 드는 비용은 0 이라는 의미\n",
    "    \n",
    "    total_weight = 0 # 가중치 합 저장 변수\n",
    "    vertex_count = 0 # 정점이 모두 포함되면 끝이므로 거쳐간 정점 개수 세기 위한 변수\n",
    "\n",
    "    while vertex_count < len(graph): # 현재 거쳐간 정점(노드) 개수 < 총 정점(노드) 개수\n",
    "        pop_info = heappop(h) # 가장 우선순위에 있는 데이터를 pop해서 pop_info에 집어넣음 (바로 직전에 지나온 정점을 의미)\n",
    "        \n",
    "        # pop한 노드의 정보를 저장\n",
    "        pop_weight = pop_info[0] #pop_info[0] : pop한 노드의 첫번째 요소인 가중치\n",
    "        pop_vertex = pop_info[1] #pop_info[1] : pop한 노드의 두번째 요소인 해당 간선이 연결하는 노드의 index \n",
    "                                                # (이 index는 간선의 끝점을 지정해주는 역할을 함)\n",
    "        \n",
    "        if connect[pop_vertex] == False: # pop한 노드가 연결이 안 되어있다면 (MST에 포함되어 있지 않다면)\n",
    "            connect[pop_vertex] = True # 연결시켜줌 (이거 처음에 넣은 노드의 다음 노드들부터 적용됨)\n",
    "            \n",
    "            total_weight = total_weight + pop_weight # 가중치 총합에 위의 가중치를 추가\n",
    "            vertex_count = vertex_count + 1 # 정점 개수에 1을 추가\n",
    "            \n",
    "            print(\"새로 연결된 곳:\", graph_v[pop_vertex])\n",
    "            print(\"누적 가중치 합:\", total_weight)\n",
    "            \n",
    "            for i in range(0, len(graph)): # 정점 개수 만큼 반복 ( 0 ~ len(graph)-1 ) \n",
    "                if (graph[pop_vertex][i] != 0) and (connect[i] == False): # 그래프 내 i번째 정점과 pop한 정점이 '연결'(!=0)되어있고\n",
    "                                                                          # 그 i번째 정점이 생성된 MST에 아직 연결되지 않았다면\n",
    "                    heappush(h, (graph[pop_vertex][i], i)) # (i의 가중치, 노드 i)를 힙 h에 push "
   ]
  },
  {
   "cell_type": "code",
   "execution_count": 4,
   "id": "65c942ee-6539-4b5e-8891-abfd95397559",
   "metadata": {
    "tags": []
   },
   "outputs": [
    {
     "name": "stdout",
     "output_type": "stream",
     "text": [
      "새로 연결된 곳: B\n",
      "누적 가중치 합: 0\n",
      "새로 연결된 곳: C\n",
      "누적 가중치 합: 17\n",
      "새로 연결된 곳: E\n",
      "누적 가중치 합: 36\n",
      "새로 연결된 곳: D\n",
      "누적 가중치 합: 51\n",
      "새로 연결된 곳: A\n",
      "누적 가중치 합: 81\n"
     ]
    }
   ],
   "source": [
    "Prim_Algorithm(G, V, 1)\n",
    "# 정점 B에서 시작하는 이유는 바로 위에 start 값이 1로 주어졌잖아요"
   ]
  }
 ],
 "metadata": {
  "kernelspec": {
   "display_name": "Python 3 (ipykernel)",
   "language": "python",
   "name": "python3"
  },
  "language_info": {
   "codemirror_mode": {
    "name": "ipython",
    "version": 3
   },
   "file_extension": ".py",
   "mimetype": "text/x-python",
   "name": "python",
   "nbconvert_exporter": "python",
   "pygments_lexer": "ipython3",
   "version": "3.11.5"
  }
 },
 "nbformat": 4,
 "nbformat_minor": 5
}
