{
 "cells": [
  {
   "cell_type": "code",
   "execution_count": 1,
   "id": "5422d0a4-126f-4f87-9750-afbb161ea23c",
   "metadata": {
    "tags": []
   },
   "outputs": [],
   "source": [
    "# Queue is FIFO\n",
    "\n",
    "class Queue:\n",
    "    def __init__(self):\n",
    "        self.items = list() #비어 있는 리스트를 생성해서 빈큐 생성 (아이템들이 저장된는 곳)\n",
    "    \n",
    "    def enqueue(self, item):\n",
    "        self.items.append(item) #큐의 최하단(오른쪽)에 새로운 원소를 집어넣음\n",
    "        \n",
    "    def dequeue(self):\n",
    "        del self.items[0] #가장 최상단(왼쪽)에 있는 원소 제거\n",
    "        return self.items\n",
    "    \n",
    "    def peek(self):\n",
    "        return self.items[0] #가장 왼쪽에 있는 항목을 삭제하지 않고 반환\n",
    "    \n",
    "    def isEmpty(self):\n",
    "        return not self.items # 큐가 비어있다면 True \n",
    "    "
   ]
  },
  {
   "cell_type": "code",
   "execution_count": 2,
   "id": "cdd7e6ce-6a42-4c7d-8b9e-761250dfe525",
   "metadata": {
    "tags": []
   },
   "outputs": [],
   "source": [
    "queue = Queue()"
   ]
  },
  {
   "cell_type": "code",
   "execution_count": 3,
   "id": "77d7cbbb-fbb5-45f2-8382-a1805ac82dbd",
   "metadata": {
    "tags": []
   },
   "outputs": [
    {
     "data": {
      "text/plain": [
       "True"
      ]
     },
     "execution_count": 3,
     "metadata": {},
     "output_type": "execute_result"
    }
   ],
   "source": [
    "queue.isEmpty()"
   ]
  },
  {
   "cell_type": "code",
   "execution_count": 4,
   "id": "395235c7-dbd9-4788-8155-238a1fcb9e13",
   "metadata": {
    "tags": []
   },
   "outputs": [],
   "source": [
    "queue.enqueue('퀴')\n",
    "queue.enqueue('즈')\n",
    "queue.enqueue('싫')\n",
    "queue.enqueue('어')"
   ]
  },
  {
   "cell_type": "code",
   "execution_count": 5,
   "id": "4777cab2-3a70-4ca3-8f9d-774794252bd7",
   "metadata": {
    "tags": []
   },
   "outputs": [
    {
     "data": {
      "text/plain": [
       "['퀴', '즈', '싫', '어']"
      ]
     },
     "execution_count": 5,
     "metadata": {},
     "output_type": "execute_result"
    }
   ],
   "source": [
    "queue.items #print"
   ]
  },
  {
   "cell_type": "code",
   "execution_count": 6,
   "id": "372691fa-98f7-4e62-9488-f7355289e239",
   "metadata": {
    "tags": []
   },
   "outputs": [
    {
     "data": {
      "text/plain": [
       "['즈', '싫', '어']"
      ]
     },
     "execution_count": 6,
     "metadata": {},
     "output_type": "execute_result"
    }
   ],
   "source": [
    "queue.dequeue() # 퀴 삭제"
   ]
  },
  {
   "cell_type": "code",
   "execution_count": 7,
   "id": "a3792b51-7b93-48fe-a674-ea6d7d771b7a",
   "metadata": {
    "tags": []
   },
   "outputs": [
    {
     "data": {
      "text/plain": [
       "'즈'"
      ]
     },
     "execution_count": 7,
     "metadata": {},
     "output_type": "execute_result"
    }
   ],
   "source": [
    "queue.peek()"
   ]
  },
  {
   "cell_type": "code",
   "execution_count": 8,
   "id": "ff2c0325-4688-478c-a1d9-9246580cfdff",
   "metadata": {
    "tags": []
   },
   "outputs": [
    {
     "data": {
      "text/plain": [
       "['즈', '싫', '어']"
      ]
     },
     "execution_count": 8,
     "metadata": {},
     "output_type": "execute_result"
    }
   ],
   "source": [
    "queue.items"
   ]
  },
  {
   "cell_type": "code",
   "execution_count": 9,
   "id": "dc9e8e31-52e3-455d-87a4-2b5f4585419a",
   "metadata": {
    "tags": []
   },
   "outputs": [
    {
     "data": {
      "text/plain": [
       "True"
      ]
     },
     "execution_count": 9,
     "metadata": {},
     "output_type": "execute_result"
    }
   ],
   "source": [
    "queue.dequeue()\n",
    "queue.dequeue()\n",
    "queue.dequeue()\n",
    "\n",
    "queue.isEmpty()"
   ]
  },
  {
   "cell_type": "code",
   "execution_count": null,
   "id": "3266dd39-168e-452f-ae7d-6f3c8d355a47",
   "metadata": {},
   "outputs": [],
   "source": []
  },
  {
   "cell_type": "code",
   "execution_count": 10,
   "id": "618b7ebc-f0b7-426c-93c9-d536db96a3ad",
   "metadata": {
    "tags": []
   },
   "outputs": [],
   "source": [
    "# Circular Queue (원형 큐)\n",
    "# rear는 enqueue를\n",
    "# front는 dequeue를 따라감"
   ]
  },
  {
   "cell_type": "code",
   "execution_count": 25,
   "id": "38bc84d0-10a8-472d-8648-ffd2be8c8859",
   "metadata": {
    "tags": []
   },
   "outputs": [],
   "source": [
    "class cirQueue:\n",
    "    def __init__(self,capacity): #크기가 몇인 원형큐를 생성할것이냐 때문에 capacity 씀\n",
    "        self.capacity = capacity\n",
    "        self.items = [None] * self.capacity #큐의 크기 \n",
    "        self.front = 0\n",
    "        self.rear = 0\n",
    "        \n",
    "    def isFull(self):\n",
    "        return self.front == (self.rear+1) % self.capacity #rear다음( rear(의 인덱스)+1 )이 front(의 인덱스)이면 Full 상태\n",
    "                                                           # %기호는 나머지 기호이므로\n",
    "                                                           #만일 큐의 크기가 팔이고 현재 인덱스가 6이고 다음인덱스가 7이라면 나눠도 7일것임\n",
    "                                                           # 나머지연산 해주는 이유는 인덱스가 8을 넘어가는 순간을 위한것임(원형 큐니까)\n",
    "    \n",
    "    def enqueue(self, item):\n",
    "        if not self.isFull(): #가득찬 원형큐가 아니라면\n",
    "            self.items[self.rear] = item # 현재 rear가 가리키는 인덱스에 데이터 삽입\n",
    "            self.rear = (self.rear+1) % self.capacity #rear의 index 1 증가 (rear의 위치를 하나뒤로 \n",
    "        else: #가득 차있다면 패스\n",
    "            pass\n",
    "    \n",
    "    def dequeue(self):\n",
    "        if not self.isEmpty(): #큐가 비어있지 않다면\n",
    "            del_item = self.items[self.front] # 현재 삭제할 데이터는 지금 front가 가리키는 인덱스에 있는 놈\n",
    "            self.items[self.front] = None # front의 index에 있는 최전방 데이터 삭제\n",
    "            self.front = (self.front+1)%self.capacity #front의 인덱스 값 +1 (나누기 해주는 이유는 원형큐는 크기가 정해져있는데 나누기 안해주면 계속 숫자 증가하면서 빙글빙글 돌아서)\n",
    "            return del_item\n",
    "        else:\n",
    "            pass\n",
    "        \n",
    "    def peek(self):\n",
    "        if not self.isEmpty(): #비어있지 않다면, \n",
    "            return self.items[self.front] #self.front가 가리키고 있는 인덱스의 데이터 반환\n",
    "        else:\n",
    "            pass\n",
    "        \n",
    "    def isEmpty(self):\n",
    "        return not self.items # 큐가 비어있다면 True "
   ]
  },
  {
   "cell_type": "code",
   "execution_count": 26,
   "id": "0bf44d37-b3c5-460b-b9e2-9e91d9b6aa76",
   "metadata": {
    "tags": []
   },
   "outputs": [],
   "source": [
    "cqueue = cirQueue(8) #8크기의 Queue배열 생성"
   ]
  },
  {
   "cell_type": "code",
   "execution_count": 27,
   "id": "2f9bd05f-3019-40ff-868c-a2fc146478f5",
   "metadata": {
    "tags": []
   },
   "outputs": [],
   "source": [
    "cqueue.enqueue('A')\n",
    "cqueue.enqueue('B')\n",
    "cqueue.enqueue('C')\n",
    "cqueue.enqueue('D')\n",
    "cqueue.enqueue('E')\n",
    "cqueue.enqueue('F')"
   ]
  },
  {
   "cell_type": "code",
   "execution_count": null,
   "id": "f69c408f-c16a-4977-8b10-2fd59181d9b8",
   "metadata": {
    "tags": []
   },
   "outputs": [],
   "source": []
  },
  {
   "cell_type": "code",
   "execution_count": 28,
   "id": "3e6f319d-aa17-4f6f-80a5-e79e71d79557",
   "metadata": {
    "tags": []
   },
   "outputs": [
    {
     "data": {
      "text/plain": [
       "0"
      ]
     },
     "execution_count": 28,
     "metadata": {},
     "output_type": "execute_result"
    }
   ],
   "source": [
    "cqueue.front\n",
    "#현재 가장 첫번째 인덱스를 가리키고 있으므로 0"
   ]
  },
  {
   "cell_type": "code",
   "execution_count": 29,
   "id": "98228d5c-0922-4820-8b7e-bdb4dc82d40e",
   "metadata": {
    "tags": []
   },
   "outputs": [
    {
     "data": {
      "text/plain": [
       "6"
      ]
     },
     "execution_count": 29,
     "metadata": {},
     "output_type": "execute_result"
    }
   ],
   "source": [
    "cqueue.rear\n",
    "#F까지 채웠으므로 F의 그다음 위치 인덱스가 rear의 위치이므로 6"
   ]
  },
  {
   "cell_type": "code",
   "execution_count": 30,
   "id": "4e26689b-f596-42bd-861d-1c652f402f87",
   "metadata": {
    "tags": []
   },
   "outputs": [
    {
     "data": {
      "text/plain": [
       "'A'"
      ]
     },
     "execution_count": 30,
     "metadata": {},
     "output_type": "execute_result"
    }
   ],
   "source": [
    "cqueue.dequeue()"
   ]
  },
  {
   "cell_type": "code",
   "execution_count": null,
   "id": "87d467b7-6d0c-407e-a702-06f3d3d7fd31",
   "metadata": {},
   "outputs": [],
   "source": []
  },
  {
   "cell_type": "code",
   "execution_count": 31,
   "id": "da099fa4-bf14-4124-8e15-13d7f6a0e7a9",
   "metadata": {
    "tags": []
   },
   "outputs": [
    {
     "data": {
      "text/plain": [
       "[None, 'B', 'C', 'D', 'E', 'F', None, None]"
      ]
     },
     "execution_count": 31,
     "metadata": {},
     "output_type": "execute_result"
    }
   ],
   "source": [
    "cqueue.items"
   ]
  },
  {
   "cell_type": "code",
   "execution_count": 32,
   "id": "c64c8903-230e-4830-8135-cfd3acbd391f",
   "metadata": {
    "tags": []
   },
   "outputs": [
    {
     "data": {
      "text/plain": [
       "1"
      ]
     },
     "execution_count": 32,
     "metadata": {},
     "output_type": "execute_result"
    }
   ],
   "source": [
    "cqueue.front"
   ]
  },
  {
   "cell_type": "code",
   "execution_count": 33,
   "id": "aaff68d2-5422-4006-941b-3b747d0acc38",
   "metadata": {
    "tags": []
   },
   "outputs": [
    {
     "data": {
      "text/plain": [
       "6"
      ]
     },
     "execution_count": 33,
     "metadata": {},
     "output_type": "execute_result"
    }
   ],
   "source": [
    "cqueue.rear"
   ]
  },
  {
   "cell_type": "code",
   "execution_count": 34,
   "id": "9340f32f-b446-4e22-9b7e-ef5d11b2b4ef",
   "metadata": {
    "tags": []
   },
   "outputs": [
    {
     "data": {
      "text/plain": [
       "'B'"
      ]
     },
     "execution_count": 34,
     "metadata": {},
     "output_type": "execute_result"
    }
   ],
   "source": [
    "cqueue.peek()"
   ]
  },
  {
   "cell_type": "code",
   "execution_count": 35,
   "id": "439236a9-896d-47fe-839e-8ef9ce0a0c1d",
   "metadata": {
    "tags": []
   },
   "outputs": [],
   "source": [
    "cqueue.enqueue(\"Y\")\n",
    "cqueue.enqueue(\"Z\")"
   ]
  },
  {
   "cell_type": "code",
   "execution_count": 36,
   "id": "b7d05eba-ac9e-4597-bac7-7637db18778b",
   "metadata": {
    "tags": []
   },
   "outputs": [
    {
     "data": {
      "text/plain": [
       "[None, 'B', 'C', 'D', 'E', 'F', 'Y', 'Z']"
      ]
     },
     "execution_count": 36,
     "metadata": {},
     "output_type": "execute_result"
    }
   ],
   "source": [
    "cqueue.items"
   ]
  },
  {
   "cell_type": "code",
   "execution_count": 37,
   "id": "cd84184a-12de-4b3c-bf0b-4bb2f658e71e",
   "metadata": {
    "tags": []
   },
   "outputs": [
    {
     "data": {
      "text/plain": [
       "True"
      ]
     },
     "execution_count": 37,
     "metadata": {},
     "output_type": "execute_result"
    }
   ],
   "source": [
    "cqueue.isFull()"
   ]
  },
  {
   "cell_type": "code",
   "execution_count": 38,
   "id": "b37357cf-4cce-4bb0-81c3-b2d85cce8656",
   "metadata": {
    "tags": []
   },
   "outputs": [],
   "source": [
    "cqueue.enqueue('!') \n",
    "#큐가 가들 찼으므로 집어넣어지지 않음"
   ]
  }
 ],
 "metadata": {
  "kernelspec": {
   "display_name": "Python 3 (ipykernel)",
   "language": "python",
   "name": "python3"
  },
  "language_info": {
   "codemirror_mode": {
    "name": "ipython",
    "version": 3
   },
   "file_extension": ".py",
   "mimetype": "text/x-python",
   "name": "python",
   "nbconvert_exporter": "python",
   "pygments_lexer": "ipython3",
   "version": "3.11.5"
  }
 },
 "nbformat": 4,
 "nbformat_minor": 5
}
