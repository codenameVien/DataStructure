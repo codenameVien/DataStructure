{
 "cells": [
  {
   "cell_type": "code",
   "execution_count": 8,
   "id": "fc96c3c4-d53f-46e5-a8c6-e063d57d6010",
   "metadata": {
    "tags": []
   },
   "outputs": [],
   "source": [
    "def factorial_func(n):\n",
    "    print(n)\n",
    "    if n==1:\n",
    "        return 1\n",
    "    else:\n",
    "        return n * factorial_func(n-1)"
   ]
  },
  {
   "cell_type": "code",
   "execution_count": 9,
   "id": "cf9ab06b-b0a0-4d42-abf8-93df625f74cf",
   "metadata": {
    "tags": []
   },
   "outputs": [
    {
     "name": "stdout",
     "output_type": "stream",
     "text": [
      "4\n",
      "3\n",
      "2\n",
      "1\n"
     ]
    },
    {
     "data": {
      "text/plain": [
       "24"
      ]
     },
     "execution_count": 9,
     "metadata": {},
     "output_type": "execute_result"
    }
   ],
   "source": [
    "factorial_func(4)"
   ]
  },
  {
   "cell_type": "code",
   "execution_count": 10,
   "id": "5abd20c6-8bc9-4760-9829-f826585d7b5a",
   "metadata": {
    "tags": []
   },
   "outputs": [],
   "source": [
    "def fibonacci_func(n):\n",
    "    print(n)\n",
    "    if n==1 or n==2:\n",
    "        return 1\n",
    "    else:\n",
    "        return fibonacci_func(n-1) + fibonacci_func(n-2)"
   ]
  },
  {
   "cell_type": "code",
   "execution_count": 11,
   "id": "26237d23-1fe4-4eb9-a414-542dc91d8d31",
   "metadata": {
    "tags": []
   },
   "outputs": [
    {
     "name": "stdout",
     "output_type": "stream",
     "text": [
      "5\n",
      "4\n",
      "3\n",
      "2\n",
      "1\n",
      "2\n",
      "3\n",
      "2\n",
      "1\n"
     ]
    },
    {
     "data": {
      "text/plain": [
       "5"
      ]
     },
     "execution_count": 11,
     "metadata": {},
     "output_type": "execute_result"
    }
   ],
   "source": [
    "fibonacci_func(5)"
   ]
  },
  {
   "cell_type": "code",
   "execution_count": null,
   "id": "4e4663fc-265f-4238-9bfd-1c88fa1d07ab",
   "metadata": {},
   "outputs": [],
   "source": []
  },
  {
   "cell_type": "code",
   "execution_count": null,
   "id": "06951c33-0868-4ed8-bd54-6ed49a94ff04",
   "metadata": {},
   "outputs": [],
   "source": []
  },
  {
   "cell_type": "code",
   "execution_count": 21,
   "id": "362c0c4b-8e41-4dda-9833-23962cecea64",
   "metadata": {
    "tags": []
   },
   "outputs": [],
   "source": [
    "class Stack:\n",
    "\n",
    "    def __init__(self):\n",
    "        self.items = list()\n",
    "        \n",
    "    def push(self,items):\n",
    "        self.items.append(items)\n",
    "        \n",
    "    def pop(self):\n",
    "        return self.items.pop()\n",
    "    \n",
    "    def peek(self):\n",
    "        return self.items[-1]\n",
    "    \n",
    "    def isEmpty(self):\n",
    "        return not self.items #비어있으면 true여야 하므로\n",
    "    "
   ]
  },
  {
   "cell_type": "code",
   "execution_count": 22,
   "id": "db8f5bca-3f48-4ce5-acc0-55f7f00c109d",
   "metadata": {
    "tags": []
   },
   "outputs": [
    {
     "data": {
      "text/plain": [
       "True"
      ]
     },
     "execution_count": 22,
     "metadata": {},
     "output_type": "execute_result"
    }
   ],
   "source": [
    "stack = Stack()\n",
    "stack.isEmpty()"
   ]
  },
  {
   "cell_type": "code",
   "execution_count": 23,
   "id": "3cf3a000-ae66-4c77-af50-1b072f670c56",
   "metadata": {
    "tags": []
   },
   "outputs": [
    {
     "data": {
      "text/plain": [
       "['A', 'B', 'C']"
      ]
     },
     "execution_count": 23,
     "metadata": {},
     "output_type": "execute_result"
    }
   ],
   "source": [
    "stack.push('A')\n",
    "stack.push('B')\n",
    "stack.push('C')\n",
    "stack.items"
   ]
  },
  {
   "cell_type": "code",
   "execution_count": 24,
   "id": "cc72df97-6e1b-4942-9955-083fbf64d153",
   "metadata": {
    "tags": []
   },
   "outputs": [
    {
     "data": {
      "text/plain": [
       "'C'"
      ]
     },
     "execution_count": 24,
     "metadata": {},
     "output_type": "execute_result"
    }
   ],
   "source": [
    "stack.pop()"
   ]
  },
  {
   "cell_type": "code",
   "execution_count": 25,
   "id": "a1cec407-fc92-4fd6-80e2-b2b527cff71c",
   "metadata": {
    "tags": []
   },
   "outputs": [
    {
     "data": {
      "text/plain": [
       "['A', 'B']"
      ]
     },
     "execution_count": 25,
     "metadata": {},
     "output_type": "execute_result"
    }
   ],
   "source": [
    "stack.items"
   ]
  },
  {
   "cell_type": "code",
   "execution_count": 26,
   "id": "88a9e8cc-26da-4c37-9d3a-4dcc4a460ede",
   "metadata": {
    "tags": []
   },
   "outputs": [
    {
     "data": {
      "text/plain": [
       "'B'"
      ]
     },
     "execution_count": 26,
     "metadata": {},
     "output_type": "execute_result"
    }
   ],
   "source": [
    "stack.peek()"
   ]
  },
  {
   "cell_type": "code",
   "execution_count": 27,
   "id": "5b33938a-05d5-4f11-926f-b345ada8370b",
   "metadata": {
    "tags": []
   },
   "outputs": [
    {
     "data": {
      "text/plain": [
       "['A', 'B']"
      ]
     },
     "execution_count": 27,
     "metadata": {},
     "output_type": "execute_result"
    }
   ],
   "source": [
    "stack.items"
   ]
  },
  {
   "cell_type": "code",
   "execution_count": null,
   "id": "3baad722-d691-4a1a-b25a-3da839baee8f",
   "metadata": {},
   "outputs": [],
   "source": []
  },
  {
   "cell_type": "code",
   "execution_count": null,
   "id": "6d393871-aab8-49c8-853f-d4c2a2132669",
   "metadata": {},
   "outputs": [],
   "source": []
  },
  {
   "cell_type": "code",
   "execution_count": 28,
   "id": "87324b90-53d6-4b92-a7ce-f11e2e794e67",
   "metadata": {
    "tags": []
   },
   "outputs": [],
   "source": [
    "#스택을 이용한 괄호 쌍 검사 구현\n",
    "def check(statement):\n",
    "    stack = Stack()\n",
    "    for ch in statement: #하나하나 문자를 읽어라\n",
    "        if ch == '(' or ch == '{' or ch == '[':\n",
    "            stack.push(ch)\n",
    "        elif ch == ')'or ch == '}' or ch == ']':\n",
    "            if stack.isEmpty(): #스택이 비어있는지, 즉 앞에 여는 괄호가 없는지\n",
    "                return False\n",
    "            else: \n",
    "                left = stack.pop()\n",
    "                if (ch == '}' and left != '{') or (ch == ']' and left != '[') or (ch ==')' and left != '('): #괄호 쌍이 안맞으면\n",
    "                    return False\n",
    "    \n",
    "    return stack.isEmpty()"
   ]
  },
  {
   "cell_type": "code",
   "execution_count": 32,
   "id": "a7545d22-a8af-4688-bd18-dfcdff8049f2",
   "metadata": {
    "tags": []
   },
   "outputs": [
    {
     "data": {
      "text/plain": [
       "False"
      ]
     },
     "execution_count": 32,
     "metadata": {},
     "output_type": "execute_result"
    }
   ],
   "source": [
    "s1 = '{[A+B]'\n",
    "check(s1)"
   ]
  },
  {
   "cell_type": "code",
   "execution_count": null,
   "id": "47103f3c-f9ef-42b3-888b-1a25d40ab075",
   "metadata": {},
   "outputs": [],
   "source": []
  },
  {
   "cell_type": "code",
   "execution_count": null,
   "id": "4a1708b0-1c0a-4525-acf5-7087845a8997",
   "metadata": {},
   "outputs": [],
   "source": []
  },
  {
   "cell_type": "code",
   "execution_count": 34,
   "id": "9410ef83-3ce8-463b-a0d4-a1589d65fc0a",
   "metadata": {
    "tags": []
   },
   "outputs": [],
   "source": [
    "#후위연산 구현..\n",
    "def postfix_calc(expr): # 수식이 매개변수로 들어감\n",
    "    stack = Stack()\n",
    "    for token in expr:\n",
    "        \n",
    "        if token in '+-*/':\n",
    "            val1 = stack.pop()\n",
    "            val2 = stack.pop()\n",
    "            if token == '+':\n",
    "                stack.push(val2 + val1)\n",
    "            elif token == '-':\n",
    "                stack.push(val2 - val1)\n",
    "            elif token == '*':\n",
    "                stack.push(val2 * val1)\n",
    "            elif token == '/':\n",
    "                stack.push(val2 / val1)\n",
    "        else:\n",
    "            stack.push(float(token))\n",
    "    \n",
    "    return stack.pop()"
   ]
  },
  {
   "cell_type": "code",
   "execution_count": null,
   "id": "3089aac7-2d96-483d-8084-5d53958a8dd6",
   "metadata": {},
   "outputs": [],
   "source": [
    "expr1 = ['8','2','/','3','-','3','2','*','+']\n",
    "postfix_calc(expr1)"
   ]
  }
 ],
 "metadata": {
  "kernelspec": {
   "display_name": "Python 3 (ipykernel)",
   "language": "python",
   "name": "python3"
  },
  "language_info": {
   "codemirror_mode": {
    "name": "ipython",
    "version": 3
   },
   "file_extension": ".py",
   "mimetype": "text/x-python",
   "name": "python",
   "nbconvert_exporter": "python",
   "pygments_lexer": "ipython3",
   "version": "3.11.5"
  }
 },
 "nbformat": 4,
 "nbformat_minor": 5
}
