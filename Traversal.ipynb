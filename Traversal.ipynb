{
 "cells": [
  {
   "cell_type": "code",
   "execution_count": 5,
   "id": "7ffab1d0-6a8f-4157-a7da-ebb7d6431b62",
   "metadata": {
    "tags": []
   },
   "outputs": [],
   "source": [
    "# 레벨 순회 ( 최전방 출력 -> 최전방 자식 enqueue -> 최전방을 dequeue )\n",
    "def level_order_traversal(root_node): # 루트 노드를 인자로 받아여\n",
    "    queue = list() #list로 큐 선언\n",
    "    queue.append(root_node) # 루트노드 enqueue\n",
    "    while True:\n",
    "        if len(queue) == 0: # 큐가 비어있다면 Break\n",
    "            break\n",
    "        print(queue[0].data) # queue의 최전방 프린트\n",
    "        if queue[0].left != None: # 최전방의 왼쪽 자식이 있다면\n",
    "            queue.append(queue[0].left) # 큐에 최전방의 왼쪽 자식을 enqueue\n",
    "        if queue[0].left != None: # 최전방의 오른쪽 자식이 있다면\n",
    "            queue.append(queue[0].right)\n",
    "        del queue[0] # 최전방 삭제"
   ]
  },
  {
   "cell_type": "code",
   "execution_count": 6,
   "id": "1e237e4c-825a-4f76-81f6-cb14da71e2c8",
   "metadata": {
    "tags": []
   },
   "outputs": [
    {
     "name": "stdout",
     "output_type": "stream",
     "text": [
      "93\n",
      "15\n",
      "19\n",
      "36\n",
      "44\n",
      "72\n",
      "83\n"
     ]
    }
   ],
   "source": [
    "level_order_traversal(n1)"
   ]
  },
  {
   "cell_type": "code",
   "execution_count": null,
   "id": "3cc8ead7-4a9b-4628-ad8d-c9345b5bf992",
   "metadata": {},
   "outputs": [],
   "source": []
  },
  {
   "cell_type": "code",
   "execution_count": 7,
   "id": "9c44aca3-f272-4264-9f36-507ab7022909",
   "metadata": {
    "tags": []
   },
   "outputs": [],
   "source": [
    "# 전위 순회 ( 루트노드 -> 왼쪽 서브트리 -> 오른쪽 서브트리\n",
    "def pre_order_traversal(node):\n",
    "    print(node.data) # 루트노드 출력\n",
    "    if node.left != None: #루트노드의 왼쪽 자식이 있다면\n",
    "        pre_order_traversal(node.left) # 왼쪽 자식의 서브트리를 순회하자!! (재귀호출)\n",
    "    if node.right != None: #루트 노드의 오른쪽 자식이 있다면\n",
    "        pre_order_traversal(node.right) # 오른쪽 자식의 서브트리를 순회하자!! (재귀호출)"
   ]
  },
  {
   "cell_type": "code",
   "execution_count": 8,
   "id": "31429b91-08c1-4f20-8db9-2e9735534936",
   "metadata": {
    "tags": []
   },
   "outputs": [],
   "source": [
    "# 중위 순회 ( 왼쪽 서브트리 -> 루트노드 -> 오른쪽 서브트리 )\n",
    "def in_order_traversal(node):\n",
    "    if node.left != None: #루트노드의 왼쪽 자식이 있다면\n",
    "        in_order_traversal(node.left) # 왼쪽 자식의 서브트리를 순회하자!! (재귀호출)\n",
    "    print(node.data) # 루트노드 출력\n",
    "    if node.right != None: #루트 노드의 오른쪽 자식이 있다면\n",
    "        in_order_traversal(node.right) # 오른쪽 자식의 서브트리를 순회하자!! (재귀호출)"
   ]
  },
  {
   "cell_type": "code",
   "execution_count": 9,
   "id": "485904bf-4bbe-4461-97f4-f603d27fc31a",
   "metadata": {
    "tags": []
   },
   "outputs": [],
   "source": [
    "# 후위 순회 ( 왼쪽 서브트리 -> 오른쪽 서브트리 -> 루트노드 )\n",
    "def post_order_traversal(node):\n",
    "    if node.right != None: #루트 노드의 오른쪽 자식이 있다면\n",
    "        post_order_traversal(node.right) # 오른쪽 자식의 서브트리를 순회하자!! (재귀호출)\n",
    "    if node.left != None: #루트노드의 왼쪽 자식이 있다면\n",
    "        post_order_traversal(node.left) # 왼쪽 자식의 서브트리를 순회하자!! (재귀호출)\n",
    "    print(node.data) # 루트노드 출력"
   ]
  },
  {
   "cell_type": "code",
   "execution_count": 10,
   "id": "c76b04ad-66a6-4258-9023-2faddb3ab21c",
   "metadata": {},
   "outputs": [
    {
     "name": "stdout",
     "output_type": "stream",
     "text": [
      "93\n",
      "15\n",
      "36\n",
      "44\n",
      "72\n",
      "83\n",
      "19\n"
     ]
    }
   ],
   "source": [
    "pre_order_traversal(n1)"
   ]
  },
  {
   "cell_type": "code",
   "execution_count": 11,
   "id": "4c27e806-474c-4bc0-b734-3cadcad03fd0",
   "metadata": {},
   "outputs": [
    {
     "name": "stdout",
     "output_type": "stream",
     "text": [
      "36\n",
      "15\n",
      "72\n",
      "44\n",
      "83\n",
      "93\n",
      "19\n"
     ]
    }
   ],
   "source": [
    "in_order_traversal(n1)"
   ]
  },
  {
   "cell_type": "code",
   "execution_count": 12,
   "id": "0c36cbc6-0a93-4c05-83fd-d6f6ee8d7157",
   "metadata": {
    "tags": []
   },
   "outputs": [
    {
     "name": "stdout",
     "output_type": "stream",
     "text": [
      "19\n",
      "83\n",
      "72\n",
      "44\n",
      "36\n",
      "15\n",
      "93\n"
     ]
    }
   ],
   "source": [
    "post_order_traversal(n1)"
   ]
  }
 ],
 "metadata": {
  "kernelspec": {
   "display_name": "Python 3 (ipykernel)",
   "language": "python",
   "name": "python3"
  },
  "language_info": {
   "codemirror_mode": {
    "name": "ipython",
    "version": 3
   },
   "file_extension": ".py",
   "mimetype": "text/x-python",
   "name": "python",
   "nbconvert_exporter": "python",
   "pygments_lexer": "ipython3",
   "version": "3.11.5"
  }
 },
 "nbformat": 4,
 "nbformat_minor": 5
}
