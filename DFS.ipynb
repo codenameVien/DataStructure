{
 "cells": [
  {
   "cell_type": "code",
   "execution_count": 1,
   "id": "f7925984-9ce1-4298-bae1-2c5604d3adf7",
   "metadata": {
    "tags": []
   },
   "outputs": [],
   "source": [
    "DFS_visit = list() # 재귀 호출이므로 방문기록은 함수 외부에서 관리해주는 게 편함\n",
    "def DFS (graph, start_node):\n",
    "    DFS_visit.append(start_node) # 시작노드(이후 방문하고자 하는 노드)를 visit에 추기\n",
    "    for each_node in graph[start_node]: # 시작노드(이후 방문하고자 하는 노드)와 연결된 모든 노드 중에서  \n",
    "        if (each_node in DFS_visit) ==False: # 그 노드들이 아직 방문되지 않았다면\n",
    "            DFS(graph, each_node) # 그 노드를 시작노드로 재귀호출하여 DFS_visit에 추가하고 그 노드와 연결된 다른 노드들에 대한 검토"
   ]
  },
  {
   "cell_type": "code",
   "execution_count": 2,
   "id": "41f5c959-b0a4-4f40-b922-06ad929470da",
   "metadata": {
    "tags": []
   },
   "outputs": [],
   "source": [
    "G = {0: [1,2], 1:[0,2,3], 2:[0,1,4], 3: [1,4], 4: [2,3,5], 5:[4,6], 6: [5]}"
   ]
  },
  {
   "cell_type": "code",
   "execution_count": 3,
   "id": "23402c4d-6ead-4fce-b2d1-de240421254d",
   "metadata": {
    "tags": []
   },
   "outputs": [
    {
     "name": "stdout",
     "output_type": "stream",
     "text": [
      "None\n"
     ]
    }
   ],
   "source": [
    "print(DFS(G,4)) # 이거 시작노드를 4로 할꺼야!! 라는 뜻"
   ]
  },
  {
   "cell_type": "code",
   "execution_count": 4,
   "id": "34f1e015-acf9-438b-a649-6d513248f58c",
   "metadata": {
    "tags": []
   },
   "outputs": [
    {
     "data": {
      "text/plain": [
       "[4, 2, 0, 1, 3, 5, 6]"
      ]
     },
     "execution_count": 4,
     "metadata": {},
     "output_type": "execute_result"
    }
   ],
   "source": [
    "DFS_visit"
   ]
  }
 ],
 "metadata": {
  "kernelspec": {
   "display_name": "Python 3 (ipykernel)",
   "language": "python",
   "name": "python3"
  },
  "language_info": {
   "codemirror_mode": {
    "name": "ipython",
    "version": 3
   },
   "file_extension": ".py",
   "mimetype": "text/x-python",
   "name": "python",
   "nbconvert_exporter": "python",
   "pygments_lexer": "ipython3",
   "version": "3.11.5"
  }
 },
 "nbformat": 4,
 "nbformat_minor": 5
}
