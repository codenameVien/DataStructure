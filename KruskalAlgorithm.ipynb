{
 "cells": [
  {
   "cell_type": "code",
   "execution_count": 1,
   "id": "6aa968ce-7f9d-47d8-8cc1-71bcfd8315ba",
   "metadata": {
    "tags": []
   },
   "outputs": [],
   "source": [
    "def Kruskal_Algorithm(edges, vertexes):\n",
    "    edge_count = 0 # 이어진 간선의 수 세기\n",
    "    total_weight = 0 # 최종 가중치\n",
    "    union = dict() #딕셔너리를 이용하여 집합 표기\n",
    "    \n",
    "    #각 노드의 초깃값 셋팅\n",
    "    # dic = {'A': 'A', 'B':'B', 'C':'C' ..}\n",
    "    for each_vertex in vertexes: \n",
    "        union[each_vertex] = each_vertex\n",
    "        \n",
    "    edges.sort() # 간선의 가중치를 오름차순 순으로 정렬 \n",
    "                 # 아래 E그래프에서 보면 15 17 19 .. 순으로 정렬되겠죠\n",
    "    \n",
    "    \n",
    "    # 아!! 아래에서 보면 [30, 'A', 'B'] 형태이므로\n",
    "    # each_edge[0] =30, each_edge[1] = 'A' 이런식이네!!\n",
    "    \n",
    "    for each_edge in edges: # 정렬된 edges(노드)들을 차례대로 돕시다\n",
    "        # node1과 node2가 한 집합안에 없니? (다른 value 값을 가지니?)\n",
    "        if union[each_edge[1]] != union[each_edge[2]]: \n",
    "            \n",
    "            # 같은 집합안에 없으면 잇자!\n",
    "            total_weight = total_weight + each_edge[0] # 가중치값을 최종 가중치에 추가\n",
    "            edge_count = edge_count + 1 # 이어진 간선의 수 + 1\n",
    "            \n",
    "            print(each_edge[1], '과', each_edge[2], '이(가) 연결되었습니다.')\n",
    "            print('누적 가중치 합은', total_weight, '입니다.')\n",
    "            \n",
    "            # 간선을 연결했으니 정점들은 같은 정점들이 되었다!\n",
    "            # 그럼 해당정점들의 value값을 모두 일치시켜야지 \n",
    "            for each_vertex in vertexes: # 각 노드를 모두 돌면서, \n",
    "                if union[each_vertex] == union[each_edge[2]]: # 같은 집합이 된 정점들이라면,\n",
    "                    union[each_vertex] = union[each_edge[1]] # 해당 집합안에 있는 정점들의 value값을 모두 일치시킴\n",
    "                    \n",
    "        if edge_count >= len(vertexes) - 1: # 간선의 개수 >= 정점 - 1개라면 break\n",
    "            break"
   ]
  },
  {
   "cell_type": "code",
   "execution_count": 2,
   "id": "a12e08fb-f635-4d54-82d7-2559e4cdfd2f",
   "metadata": {
    "tags": []
   },
   "outputs": [],
   "source": [
    "E = [[30, 'A', 'B'],\n",
    "    [42, 'A', 'C'],\n",
    "    [17, 'B', 'C'],\n",
    "    [22, 'C', 'D'],\n",
    "    [28, 'B', 'D'],\n",
    "    [19, 'C', 'E'],\n",
    "    [15, 'D', 'E']]"
   ]
  },
  {
   "cell_type": "code",
   "execution_count": null,
   "id": "6322e0a8-6568-44b9-8e34-c2cbd4bed647",
   "metadata": {},
   "outputs": [],
   "source": [
    "Kruskal_Algorithm(E, V)"
   ]
  }
 ],
 "metadata": {
  "kernelspec": {
   "display_name": "Python 3 (ipykernel)",
   "language": "python",
   "name": "python3"
  },
  "language_info": {
   "codemirror_mode": {
    "name": "ipython",
    "version": 3
   },
   "file_extension": ".py",
   "mimetype": "text/x-python",
   "name": "python",
   "nbconvert_exporter": "python",
   "pygments_lexer": "ipython3",
   "version": "3.11.5"
  }
 },
 "nbformat": 4,
 "nbformat_minor": 5
}
