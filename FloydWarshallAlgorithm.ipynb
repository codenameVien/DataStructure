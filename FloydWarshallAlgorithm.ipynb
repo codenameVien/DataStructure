{
 "cells": [
  {
   "cell_type": "code",
   "execution_count": 1,
   "id": "ef5bdc16-f05c-41e1-91ef-5c05be69d0d1",
   "metadata": {
    "tags": []
   },
   "outputs": [],
   "source": [
    "def FloydWarshall_Algorithm(graph, graph_v):\n",
    "    for i in range(0, len(graph)): # 그래프 내 모든 원소를 돌면서\n",
    "        for j in range(0, len(graph)):  # 그래프 내 모든 원소를 돌면서\n",
    "            if i != j and graph[i][j] == 0: # i != j : 자기 자신으로의 경로가 아니거나 \n",
    "                                            # graph[i][j] == 0 : 간선이 존재하지 않는 경우\n",
    "                graph[i][j] = float('inf') # inf로 표시\n",
    "    \n",
    "    # 세 개의 중첩 루프를 사용하여 모든 정점 쌍에 대해 최단 경로를 계산   \n",
    "    for mid in range(0, len(graph)): # 모든 경유지를 고려하여 / mid: 경유지로 사용할 노드\n",
    "        for start in range(0, len(graph)): # 임의의(모든) 시작점에서 / start: 시작 노드\n",
    "            for end in range(0, len(graph)): # 임의의(모든) 도착점까지 / end: 끝 노드   \n",
    "                new_weight = graph[start][mid] + graph[mid][end] # new_weight = start에서 mid를 거쳐 end로 가는 경로\n",
    "                graph[start][end] = min(graph[start][end], new_weight) # start에서 end로 다이렉트로 가는 경로와 new_weight 중 더 짧은 경로를 선택\n",
    "                \n",
    "    # 모든 정점 쌍에 대한 최단 거리를 출력         \n",
    "    for i in range(0, len(graph)):\n",
    "        for j in range(0, len(graph)):\n",
    "            print(graph_v[i], '->', graph_v[j], '최단 거리:', graph[i][j])"
   ]
  },
  {
   "cell_type": "code",
   "execution_count": 2,
   "id": "a7a50e4b-3a5c-4621-86b1-fa20eac202aa",
   "metadata": {
    "tags": []
   },
   "outputs": [],
   "source": [
    "# G[i][j] : 정점 i와 정점 j 사이의 가중치\n",
    "# 값이 0이면 자기자신으로의 경로 또는 두 정점 사이에 간선이 없음을 의미\n",
    "G = [[0, 30, 0, 20, 0],\n",
    "    [40, 0, 0, -30, 0], \n",
    "    [0, 50, 0, 0, 30],\n",
    "    [0, 0, 0, 0, 60],\n",
    "    [0, -20, 0, 0, 0]]\n",
    "\n",
    "# V: 정점들의 리스트\n",
    "V = [\"A\", \"B\", \"C\", \"D\", \"E\"]"
   ]
  },
  {
   "cell_type": "code",
   "execution_count": 3,
   "id": "41049235-684d-471c-a267-961c0541e04f",
   "metadata": {
    "tags": []
   },
   "outputs": [
    {
     "name": "stdout",
     "output_type": "stream",
     "text": [
      "A -> A 최단 거리: 0\n",
      "A -> B 최단 거리: 30\n",
      "A -> C 최단 거리: inf\n",
      "A -> D 최단 거리: 0\n",
      "A -> E 최단 거리: 60\n",
      "B -> A 최단 거리: 40\n",
      "B -> B 최단 거리: 0\n",
      "B -> C 최단 거리: inf\n",
      "B -> D 최단 거리: -30\n",
      "B -> E 최단 거리: 30\n",
      "C -> A 최단 거리: 50\n",
      "C -> B 최단 거리: 10\n",
      "C -> C 최단 거리: 0\n",
      "C -> D 최단 거리: -20\n",
      "C -> E 최단 거리: 30\n",
      "D -> A 최단 거리: 80\n",
      "D -> B 최단 거리: 40\n",
      "D -> C 최단 거리: inf\n",
      "D -> D 최단 거리: 0\n",
      "D -> E 최단 거리: 60\n",
      "E -> A 최단 거리: 20\n",
      "E -> B 최단 거리: -20\n",
      "E -> C 최단 거리: inf\n",
      "E -> D 최단 거리: -50\n",
      "E -> E 최단 거리: 0\n"
     ]
    }
   ],
   "source": [
    "FloydWarshall_Algorithm(G, V)"
   ]
  }
 ],
 "metadata": {
  "kernelspec": {
   "display_name": "Python 3 (ipykernel)",
   "language": "python",
   "name": "python3"
  },
  "language_info": {
   "codemirror_mode": {
    "name": "ipython",
    "version": 3
   },
   "file_extension": ".py",
   "mimetype": "text/x-python",
   "name": "python",
   "nbconvert_exporter": "python",
   "pygments_lexer": "ipython3",
   "version": "3.11.5"
  }
 },
 "nbformat": 4,
 "nbformat_minor": 5
}
