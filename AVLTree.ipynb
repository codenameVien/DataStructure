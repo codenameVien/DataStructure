{
 "cells": [
  {
   "cell_type": "code",
   "execution_count": 1,
   "id": "728c2baf-6350-4734-8f56-f54cde14781a",
   "metadata": {
    "tags": []
   },
   "outputs": [],
   "source": [
    "class NODE:\n",
    "    def __init__(self, data):\n",
    "        self.data = data\n",
    "        self.left = None\n",
    "        self.right = None\n",
    "        self.height = 0  # Balance factor을 구하기 위한 높이 값"
   ]
  },
  {
   "cell_type": "code",
   "execution_count": 2,
   "id": "95e42a56-8c6a-4ccf-9001-a9e79624ed27",
   "metadata": {
    "tags": []
   },
   "outputs": [],
   "source": [
    "class AVL:\n",
    "    def __init__(self):\n",
    "        self.root = None # AVL 트리는 루트 노드가 무엇인지만 알면 정의 가능\n",
    "                         # 서로 다른 AVL 트리를 구분할때 루트노드를 고려 !\n",
    "                         ## 새로운 원소를 추가할 떄마다 AVL 트리의 루트 노드가 달라질 수 있음\n",
    "                \n",
    "    def height(self, node):\n",
    "        if node == None:\n",
    "            return -1 # 노드가 없는 경우 높이를 -1로 간주함 !!\n",
    "        else:\n",
    "            return node.height # 있는 경우 노드의 높이 반환\n",
    "        \n",
    "    # balance factor 구하기 \n",
    "    def balance_factor(self, node):\n",
    "        return self.height(node.left)- self.height(node.right)\n",
    "    \n",
    "    # \"사용자 입장\"에서 원소 삽입하는 메서드 정의 \n",
    "    # 뭐 넣줘 뭐 넣줘 찡찡거리는 용\n",
    "    # (아 여기 insert 함수에서 알아서 균형화 작업을 해주네!!) \n",
    "    def insert_data(self, data): # data : 삽입하고자 하는 데이터만 인자로 받으면 됨\n",
    "        self.root = self.insert(self.root,data) \n",
    "        # root : 방문용(비교용) 노드\n",
    "        \n",
    "        # insert 메서드를 호출하여 \n",
    "        ## 주어진 데이터를 트리에 삽입하고, \n",
    "        ## 결과로 나온 트리의 루트 노드를\n",
    "        ## 현재 노드의 루트(self.root)로 업데이트하는 역할\n",
    "\n",
    "            \n",
    "    def insert(self, node, data):\n",
    "        if node == None:\n",
    "            return NODE(data) # 삽입할 위치에 노드가 없으면 노드를 새로 생성해서 반환함\n",
    "                              ## 새롭게 루트 노드가 되거나, 새롭게 붙는 노드가 되거나\n",
    "        \n",
    "        if node.data < data: #현재 방문한 데이터 < 삽입한 데이터 라면, \n",
    "            node.right = self.insert(node.right,data) #오른쪽 아래에 삽입\n",
    "            \n",
    "        if node.data > data : # 현재 방문한 데이터 > 삽입한 데이터 라면\n",
    "            node.left = self.insert(node.left,data) #오른쪽 아래에 삽입\n",
    "            \n",
    "        node.height = max(self.height(node.left), self.height(node.right))+1\n",
    "        # 현재 노드의 높이 = 오른쪽 자식 왼쪽 자식의 높이 중 큰거 + 1\n",
    "        \n",
    "        \n",
    "        # Balance Factor로 4가지 case 분류 한거 \n",
    "        if self.balance_factor(node) > 1:\n",
    "            if self.balance_factor(node.left) > 0: # Left-Left \n",
    "                node = self.LL(node)\n",
    "            else:\n",
    "                node = self.LR(node)\n",
    "        if self.balance_factor(node) < -1:\n",
    "            if self.balance_factor(node.right) > 0: \n",
    "                node = self.RL(node)\n",
    "            else:\n",
    "                node = self.RR(node)            \n",
    "        return node\n",
    "    \n",
    "    # case 1\n",
    "    def LL(self, node): # A노드 기준 (node == A)\n",
    "        new = node.left # 새로운 루트 노드 new  =  A의 왼쪽 == B\n",
    "        node.left = new.right # A의 왼쪽  =  B의 오른쪽 == z\n",
    "        new.right = node # B의 오른쪽  =  A\n",
    "        # A, B 만 이동했으므로 이 둘의 높이만 변경\n",
    "        # A, B 높이 = 자식의 최대 높이 + 1\n",
    "        node.height = max(self.height(node.left), self.height(node.right)) + 1\n",
    "        new.height = max(self.height(new.left), self. height(new.right)) + 1\n",
    "        return new # 새로운 루트노드 B 반환\n",
    "\n",
    "    #case 2\n",
    "    def RR(self, node): # A노드 기준 \n",
    "        new = node.right # 새로운 루트 노드 new  =  A의 오른쪽 == B\n",
    "        node.right = new.left # A의 오른쪽  =  B의 왼쪽 == z\n",
    "        new.left = node # B의 왼쪽  =  A\n",
    "        # A, B 높이 = 자식의 최대 높이 + 1\n",
    "        node.height = max(self.height(node.left), self.height(node.right)) + 1 \n",
    "        new.height = max(self.height(new.left), self.height(new.right)) + 1\n",
    "        return new # B 반환\n",
    "\n",
    "    #case 3\n",
    "    def LR(self, node): # A노드 기준\n",
    "        new = node.left.right # 새로운 루트 노드 new  =  A의 왼쪽의 오른쪽 == B의 오른쪽 == C\n",
    "        node.left.right = new.left # A의 왼쪽의 오른쪽 == B의 오른쪽  =  C의 왼쪽 == y\n",
    "        new.left = node.left # C의 왼쪽  =  A의 왼쪽 == B\n",
    "        node.left = new.right # A의 왼쪽   =  C의 오른쪽 == z\n",
    "        new.right = node  # C의 오른쪽  =  A\n",
    "        # A, B, C 높이 = 자식의 최대 높이 + 1\n",
    "        new.left.height = max(self.height(new.left.left), self.height(new.left.right)) + 1\n",
    "        new.right.height = max(self.height(new.right.left), self.height(new.right.right)) + 1\n",
    "        new.height = max(self.height(new.left), self.height(new.right)) + 1\n",
    "        return new # C 반환 \n",
    "\n",
    "    #case 4\n",
    "    def RL(self, node): # node == A\n",
    "        new = node.right.left # 새로운 루트 노드 new  =  A의 오른쪽의 왼쪽  == B의 왼쪽 == C \n",
    "        node.right.left = new.right # A의 오른쪽의 왼쪽 == B의 왼쪽  =  C의 오른쪽 == z\n",
    "        new.right = node.right # C의 오른쪽  =  A의 오른쪽 == B\n",
    "        node.right = new.left # A의 오른쪽  =  C의 왼쪽 == y \n",
    "        new.left = node # C의 왼쪽  =  A\n",
    "        # A, B, C 높이 = 자식의 최대 높이 + 1\n",
    "        new.left.height = max(self.height(new.left.left), self.height(new.left.right)) + 1\n",
    "        new.right.height = max(self.height(new.right.left), self.height(new.right.right)) + 1\n",
    "        new.height = max(self.height(new.left), self.height(new.right)) + 1\n",
    "        return new # C반환"
   ]
  },
  {
   "cell_type": "code",
   "execution_count": 3,
   "id": "e6b326f7-9cca-40fb-b452-a90ded01bf6e",
   "metadata": {},
   "outputs": [],
   "source": [
    "new_tree = AVL()\n",
    "new_tree.insert_data(1)\n",
    "new_tree.insert_data(2)\n",
    "new_tree.insert_data(4)\n",
    "new_tree.insert_data(3)"
   ]
  },
  {
   "cell_type": "code",
   "execution_count": 4,
   "id": "4d60dd75-d5b9-47e0-a908-008c7048f145",
   "metadata": {
    "tags": []
   },
   "outputs": [
    {
     "data": {
      "text/plain": [
       "2"
      ]
     },
     "execution_count": 4,
     "metadata": {},
     "output_type": "execute_result"
    }
   ],
   "source": [
    "new_tree.root.data"
   ]
  },
  {
   "cell_type": "code",
   "execution_count": 5,
   "id": "d24baa0c-00dd-4d2e-926e-e3850e2e75c7",
   "metadata": {
    "tags": []
   },
   "outputs": [
    {
     "data": {
      "text/plain": [
       "1"
      ]
     },
     "execution_count": 5,
     "metadata": {},
     "output_type": "execute_result"
    }
   ],
   "source": [
    "new_tree.root.left.data"
   ]
  },
  {
   "cell_type": "code",
   "execution_count": 6,
   "id": "0624a5da-bee3-4a10-b7a4-d6b846d77644",
   "metadata": {
    "tags": []
   },
   "outputs": [
    {
     "data": {
      "text/plain": [
       "4"
      ]
     },
     "execution_count": 6,
     "metadata": {},
     "output_type": "execute_result"
    }
   ],
   "source": [
    "new_tree.root.right.data"
   ]
  },
  {
   "cell_type": "code",
   "execution_count": 7,
   "id": "df3647e5-55e9-41e1-9d09-8e43e37ef48c",
   "metadata": {
    "tags": []
   },
   "outputs": [
    {
     "data": {
      "text/plain": [
       "3"
      ]
     },
     "execution_count": 7,
     "metadata": {},
     "output_type": "execute_result"
    }
   ],
   "source": [
    "new_tree.root.right.left.data"
   ]
  }
 ],
 "metadata": {
  "kernelspec": {
   "display_name": "Python 3 (ipykernel)",
   "language": "python",
   "name": "python3"
  },
  "language_info": {
   "codemirror_mode": {
    "name": "ipython",
    "version": 3
   },
   "file_extension": ".py",
   "mimetype": "text/x-python",
   "name": "python",
   "nbconvert_exporter": "python",
   "pygments_lexer": "ipython3",
   "version": "3.11.5"
  }
 },
 "nbformat": 4,
 "nbformat_minor": 5
}
