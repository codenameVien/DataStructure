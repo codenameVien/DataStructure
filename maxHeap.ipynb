{
 "cells": [
  {
   "cell_type": "code",
   "execution_count": 1,
   "id": "fdc8df78-cecc-4ed6-9fa4-6e81917ff862",
   "metadata": {
    "tags": []
   },
   "outputs": [],
   "source": [
    "class maxHeap():\n",
    "    def __init__(self):\n",
    "        self.data = list() #동적배열인 list 사용\n",
    "    \n",
    "    \n",
    "    # 힙에 데이터 삽입하기\n",
    "    def heappush(self, item):\n",
    "        self.data.append(item) # Up-Heap실행\n",
    "        now_index = len(self.data) -1 #현재 인덱스는 리스트 전체 길이 - 1 (인덱스는 0으로 시작하니깐)\n",
    "        while True:\n",
    "            parent_index = (now_index - 1)//2 # 부모인덱스 (//는 나누기 후 내림연산)\n",
    "            if parent_index < 0: #루트노드까지 가면 break \n",
    "                break\n",
    "            if self.data[now_index] <= self.data[parent_index]: # 현재노드 데이터가 부모노드보다 작으면 break\n",
    "                break\n",
    "            else:\n",
    "                self.data[now_index], self.data[parent_index] = self.data[parent_index], self.data[now_index] #현재노드 데이터가 부모노드보다 크면 swap \n",
    "                now_index = parent_index # 현재 가리키고 있는 위치 인덱스 업데이트\n",
    "        \n",
    "    \n",
    "    # 힙의 루트노드 제거\n",
    "    def heappop(self):\n",
    "        now_index = len(self.data) - 1 #현재 인덱스는 리스트 전체 길이 - 1 (인덱스는 0으로 시작하니깐)\n",
    "        self.data[0] = self.data[now_index] # 루트 노드를 최하단 최우측 노드로 대체 후\n",
    "        del self.data[now_index] # 최하단 최우측 노드 데이터를 삭제\n",
    "        now_index = 0 #현재 노드의 위치를 루트노드의 위치 (인덱스 0) 으로 이동\n",
    "        while True:\n",
    "            left_child_index = now_index * 2 + 1 # 좌측 자식 노드의 인덱스\n",
    "            right_child_index = now_index * 2 + 2 # 우측 자식 노드의 인덱스\n",
    "            if left_child_index >= len(self.data): # 좌측 자식이 존재하지 않는다면 break  (좌측 자식의 가정한 인덱스가 본래 리스트의 길이보다 크다면) \n",
    "                break\n",
    "            if right_child_index >= len(self.data): # 우측 자식이 존재한다면 (우측 자식의 가정한 인덱스가 본래 리스트의 길이보다 크다면) \n",
    "                if self.data[now_index] < self.data[left_child_index]: # 그리고 좌측 자식의 데이터가 나(현재 루트노드 위치)보다 크다면\n",
    "                    self.data[now_index], self.data[left_child_index] = self.data[left_child_index], self.data[now_index] # swap 해줌\n",
    "                    break\n",
    "                else: # 우측 자식이 없으면서 나(현재 루트노드 위치)의 데이터가 좌측 자식보다 클 경우 break\n",
    "                    break\n",
    "            if (self.data[now_index] >= self.data[left_child_index]) and (self.data[now_index] >= self.data[right_child_index]): # 나(현재 루트노드 위치)의 데이터가 두마리의 자식 노드들의 데이터보다 크다면 break\n",
    "                break\n",
    "            else: # 나의 데이터가 자식 노드보다면 작다면?!\n",
    "                if self.data[left_child_index] > self.data[right_child_index]: #좌측 자식 노드의 데이터 크기 > 우측 자식 노드의 데이터 크기인 경우\n",
    "                    self.data[now_index], self.data[left_child_index] = self.data[left_child_index], self.data[now_index] # 나의 데이터와 좌측 자식 데이터를 swap\n",
    "                    now_index = left_child_index # 밑으로 내려가면서 확인해야하니, 현재 index의 위치를 방금 좌측자식의 위치로 바꾼 나의 위치로 이동한다 \n",
    "                else: # #좌측 자식 노드의 데이터 크기 <= 우측 자식 노드의 데이터 크기인 경우\n",
    "                    self.data[now_index], self.data[right_child_index] = self.data[right_child_index], self.data[now_index] # 나의 데이터와 우측 자식 데이터를 swap\n",
    "                    now_index = right_child_index # 밑으로 내려가면서 확인해야하니, 현재 index의 위치를 방금 우측자식의 위치로 바꾼 나의 위치로 이동한다   "
   ]
  },
  {
   "cell_type": "code",
   "execution_count": 2,
   "id": "b68a7b40-5342-4c4b-aece-888e7c19808a",
   "metadata": {
    "tags": []
   },
   "outputs": [],
   "source": [
    "h = maxHeap()"
   ]
  },
  {
   "cell_type": "code",
   "execution_count": 3,
   "id": "9b91a497-b465-405b-a42b-793bfcf806f3",
   "metadata": {
    "tags": []
   },
   "outputs": [],
   "source": [
    "h.heappush(21)\n",
    "h.heappush(10)\n",
    "h.heappush(18)\n",
    "h.heappush(9)\n",
    "h.heappush(5)\n",
    "h.heappush(7)"
   ]
  },
  {
   "cell_type": "code",
   "execution_count": 4,
   "id": "025c86a1-1124-4d50-85d8-502482ebcacc",
   "metadata": {
    "tags": []
   },
   "outputs": [
    {
     "name": "stdout",
     "output_type": "stream",
     "text": [
      "[21, 10, 18, 9, 5, 7]\n"
     ]
    }
   ],
   "source": [
    "print(h.data)"
   ]
  },
  {
   "cell_type": "code",
   "execution_count": null,
   "id": "e8133b50-fa09-49fd-9813-163004d69b24",
   "metadata": {},
   "outputs": [],
   "source": []
  },
  {
   "cell_type": "code",
   "execution_count": 5,
   "id": "e0fade59-b2f0-4605-95bf-ce5c1fbd1d6f",
   "metadata": {
    "tags": []
   },
   "outputs": [],
   "source": [
    "h.heappush(20)"
   ]
  },
  {
   "cell_type": "code",
   "execution_count": 6,
   "id": "ecd2beee-954d-41df-99d2-334c9a48b822",
   "metadata": {
    "tags": []
   },
   "outputs": [
    {
     "name": "stdout",
     "output_type": "stream",
     "text": [
      "[21, 10, 20, 9, 5, 7, 18]\n"
     ]
    }
   ],
   "source": [
    "print(h.data)"
   ]
  },
  {
   "cell_type": "code",
   "execution_count": null,
   "id": "b4ad28a6-7a5e-451c-914b-886b1829ccd3",
   "metadata": {},
   "outputs": [],
   "source": []
  },
  {
   "cell_type": "code",
   "execution_count": 7,
   "id": "3e03c67a-3bb3-41ba-ba1f-eb993229f832",
   "metadata": {
    "tags": []
   },
   "outputs": [],
   "source": [
    "h.heappop()"
   ]
  },
  {
   "cell_type": "code",
   "execution_count": 8,
   "id": "8d92b4f8-8426-4fe6-84ef-14cc3f9da9e6",
   "metadata": {
    "tags": []
   },
   "outputs": [
    {
     "name": "stdout",
     "output_type": "stream",
     "text": [
      "[20, 10, 18, 9, 5, 7]\n"
     ]
    }
   ],
   "source": [
    "print(h.data)"
   ]
  }
 ],
 "metadata": {
  "kernelspec": {
   "display_name": "Python 3 (ipykernel)",
   "language": "python",
   "name": "python3"
  },
  "language_info": {
   "codemirror_mode": {
    "name": "ipython",
    "version": 3
   },
   "file_extension": ".py",
   "mimetype": "text/x-python",
   "name": "python",
   "nbconvert_exporter": "python",
   "pygments_lexer": "ipython3",
   "version": "3.11.5"
  }
 },
 "nbformat": 4,
 "nbformat_minor": 5
}
