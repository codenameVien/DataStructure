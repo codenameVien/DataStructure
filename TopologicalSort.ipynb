{
 "cells": [
  {
   "cell_type": "code",
   "execution_count": 7,
   "id": "22cac2c0-7d97-44a2-991b-bcfc7bc991e3",
   "metadata": {
    "tags": []
   },
   "outputs": [],
   "source": [
    "def topological_sort(graph):\n",
    "    while len(graph) > 0: # 그래프에 어떤 원소도 남아있지 않을 때까지, (그래프에 노드가 남아있다면 계속 반복)\n",
    "        for i in graph.keys(): # 각 노드를 i라고 두고,(모든 노드를 쓰윽 확인 훑어봄)\n",
    "            topology_check = True \n",
    "             #여기서 topology_check란 현재 노드 i가 출력가능한지에 대해 결정하는 놈\n",
    "            for j in graph.keys(): # 다시 모든 노드를 확인 훑어보며,\n",
    "                if (i in graph[j]) == True: # 노드 i가 j에 존재한다면, \n",
    "                    topology_check = False # 이 노드는 아직 출력 불가 노드임\n",
    "            if topology_check == True: # 노드 i 가 j에 존재하지 않는다면\n",
    "                print(i) # 노드 i를 출력하고\n",
    "                del graph[i] # 해당 노드와 간선을 삭제함\n",
    "                break"
   ]
  },
  {
   "cell_type": "code",
   "execution_count": 8,
   "id": "08f67b5d-63a2-421e-8b95-a76da321b145",
   "metadata": {
    "tags": []
   },
   "outputs": [],
   "source": [
    "G = dict ()\n",
    "G['파이썬' ] = ['자료구조','컴퓨터 입문' ]\n",
    "G['자료구조'] = ['운영체제 ','알고리즘']\n",
    "G ['컴퓨터 입문'] = ['자료구조']\n",
    "G['운영체제'] = ['인공지능']\n",
    "G['알고리즘'] = ['데이터 베이스']\n",
    "G['데이터 베이스'] =['데이터 마이닝']\n",
    "G['인공지능'] = ['알고리즘', '데이터 마이닝']\n",
    "G['데이터 마이닝'] =['S/W 프로젝트' ]\n",
    "G['S/W 프로젝트'] = [None]"
   ]
  },
  {
   "cell_type": "code",
   "execution_count": 9,
   "id": "8bbda248-5633-4029-8210-3322716b5dcd",
   "metadata": {
    "tags": []
   },
   "outputs": [
    {
     "name": "stdout",
     "output_type": "stream",
     "text": [
      "파이썬\n",
      "컴퓨터 입문\n",
      "자료구조\n",
      "운영체제\n",
      "인공지능\n",
      "알고리즘\n",
      "데이터 베이스\n",
      "데이터 마이닝\n",
      "S/W 프로젝트\n"
     ]
    }
   ],
   "source": [
    "topological_sort(G)"
   ]
  },
  {
   "cell_type": "code",
   "execution_count": null,
   "id": "f68758a0-59de-45e5-9a3a-f91b79838f3a",
   "metadata": {},
   "outputs": [],
   "source": []
  }
 ],
 "metadata": {
  "kernelspec": {
   "display_name": "Python 3 (ipykernel)",
   "language": "python",
   "name": "python3"
  },
  "language_info": {
   "codemirror_mode": {
    "name": "ipython",
    "version": 3
   },
   "file_extension": ".py",
   "mimetype": "text/x-python",
   "name": "python",
   "nbconvert_exporter": "python",
   "pygments_lexer": "ipython3",
   "version": "3.11.5"
  }
 },
 "nbformat": 4,
 "nbformat_minor": 5
}
