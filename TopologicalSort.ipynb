{
 "cells": [
  {
   "cell_type": "code",
   "execution_count": 1,
   "id": "22cac2c0-7d97-44a2-991b-bcfc7bc991e3",
   "metadata": {
    "tags": []
   },
   "outputs": [],
   "source": [
    "def topological_sort(graph):\n",
    "    while len(graph)>0: # 그래프에 원소가 남아있다면, \n",
    "        for i in graph.keys(): # 그래프의 각 노드 i에 대해 반복\n",
    "            topology_check = True # i가 위상 정렬의 다음 순서에 올 수 있는지 확인하는 플래그 = True\n",
    "\n",
    "            for j in graph.keys(): # 다시 모든 노드 j에 대해 반복\n",
    "                if i in graph[j]: # 노드 i가 j의 리스트에 존재한다면 (== j에서 i 로 가는 간선이 있다면)\n",
    "                    topology_check = False # i는 아직 위상정렬의 다음 순서가 될 수 없음\n",
    "                    \n",
    "            if topology_check == True: # i가 위상정렬의 다음 순서가 될 수 있다면\n",
    "                print(i) # 노드 i를 출력\n",
    "                del graph[i] # 그래프에서 노드 i를 삭제함\n",
    "                break # 내부 for문을 벗어나 다시 while 문을 반복"
   ]
  },
  {
   "cell_type": "code",
   "execution_count": 2,
   "id": "08f67b5d-63a2-421e-8b95-a76da321b145",
   "metadata": {
    "tags": []
   },
   "outputs": [],
   "source": [
    "G = dict ()\n",
    "G['파이썬' ] = ['자료구조','컴퓨터 입문' ]\n",
    "G['자료구조'] = ['운영체제 ','알고리즘']\n",
    "G ['컴퓨터 입문'] = ['자료구조']\n",
    "G['운영체제'] = ['인공지능']\n",
    "G['알고리즘'] = ['데이터 베이스']\n",
    "G['데이터 베이스'] =['데이터 마이닝']\n",
    "G['인공지능'] = ['알고리즘', '데이터 마이닝']\n",
    "G['데이터 마이닝'] =['S/W 프로젝트' ]\n",
    "G['S/W 프로젝트'] = [None]"
   ]
  },
  {
   "cell_type": "code",
   "execution_count": 3,
   "id": "8bbda248-5633-4029-8210-3322716b5dcd",
   "metadata": {
    "tags": []
   },
   "outputs": [
    {
     "name": "stdout",
     "output_type": "stream",
     "text": [
      "파이썬\n",
      "컴퓨터 입문\n",
      "자료구조\n",
      "운영체제\n",
      "인공지능\n",
      "알고리즘\n",
      "데이터 베이스\n",
      "데이터 마이닝\n",
      "S/W 프로젝트\n"
     ]
    }
   ],
   "source": [
    "topological_sort(G)"
   ]
  },
  {
   "cell_type": "code",
   "execution_count": null,
   "id": "f68758a0-59de-45e5-9a3a-f91b79838f3a",
   "metadata": {},
   "outputs": [],
   "source": []
  }
 ],
 "metadata": {
  "kernelspec": {
   "display_name": "Python 3 (ipykernel)",
   "language": "python",
   "name": "python3"
  },
  "language_info": {
   "codemirror_mode": {
    "name": "ipython",
    "version": 3
   },
   "file_extension": ".py",
   "mimetype": "text/x-python",
   "name": "python",
   "nbconvert_exporter": "python",
   "pygments_lexer": "ipython3",
   "version": "3.11.5"
  }
 },
 "nbformat": 4,
 "nbformat_minor": 5
}
