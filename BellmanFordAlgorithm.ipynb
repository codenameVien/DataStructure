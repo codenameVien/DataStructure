{
 "cells": [
  {
   "cell_type": "code",
   "execution_count": 1,
   "id": "e8eb4e5b-28b8-480a-9cab-4deeeee7fc18",
   "metadata": {
    "tags": []
   },
   "outputs": [],
   "source": [
    "def BellmanFord_Algorithm(graph, graph_v, start):\n",
    "    min_weight = list() # 시작 정점부터 각 정점까지의 최단경로를 저장\n",
    "    \n",
    "    for i in range(0, len(graph)): #모든 거리를 \n",
    "        min_weight.append(float('inf')) # inf(무한대)로 초기화\n",
    "    min_weight[start] = 0 # 시작점에서 시작점으로 가는 최단경로 = 0\n",
    "    \n",
    "    on_node = [start] # on_node : 현재 round에서 처리할 노드들을 저장하는 리스트 (그림에서는 red check)\n",
    "                      # 시작 노드를 포함 \n",
    "    new_on_node = list() # new_on_node: 다음 라운드에서 처리할 노드들을 저장하는 리스트\n",
    "                        # 초기에는 비어 있음\n",
    "        \n",
    "    for round in range(1, len(graph)): # 각 round마다 반복 (n개의 정점이니 n-1번까지 round 반복)\n",
    "        for each_on_node in on_node:  # red check 표시된 곳마다 (현재 라운드에서 처리할 각 노드(red check)에 대해 반복)\n",
    "            for i in range(0, len(graph)): # 각 노드(red check)의 모든 인접 노드에 대해 반복 \n",
    "                if graph[each_on_node][i] != 0: # 간선이 존재한다면 (red check 표시된 곳과 정점 i가 연결되어 있다면) \n",
    "                    new_weight = min_weight[each_on_node] + graph[each_on_node][i] # 현재 노드까지의 최단 거리 + 그 노드(red)에서 인접 노드로 가는 가중치\n",
    "                    min_weight[i] = min(min_weight[i], new_weight) # 인접 노드의 기존 최단 거리와 새로운 경로의 거리 중 작은 값 선택\n",
    "                    new_on_node.append(i) # 인접 노드를 new_on_node 리스트에 추가 (현재 red check node)\n",
    "        on_node = new_on_node # round 끝나니까 다음 red check 정점을 현재 red check(new_on_node) 로 바꾸자\n",
    "        new_on_node = list() # 다음 round red check 표시할 곳은 초기화 \n",
    "        \n",
    "    # 시작 정점으로부터 각 정점까지의 최단 거리를 출력\n",
    "    for i in range(0, len(graph)):\n",
    "        print(graph_v[start], '->', graph_v[i], '최단 거리:', min_weight[i])"
   ]
  },
  {
   "cell_type": "code",
   "execution_count": 2,
   "id": "c43979c9-d959-4dfa-aaf1-89643be8ec44",
   "metadata": {
    "tags": []
   },
   "outputs": [],
   "source": [
    "# G[i][j] : 정점 i와 정점 j 사이의 가중치\n",
    "# 값이 0이면 자기자신으로의 경로 또는 두 정점 사이에 간선이 없음을 의미\n",
    "G = [[0, 30, 0, 20, 0],\n",
    "    [40, 0, 0, -30, 0], \n",
    "    [0, 50, 0, 0, 30],\n",
    "    [0, 0, 0, 0, 60],\n",
    "    [0, -20, 0, 0, 0]]\n",
    "\n",
    "# V: 정점들의 리스트\n",
    "V = [\"A\", \"B\", \"C\", \"D\", \"E\"]"
   ]
  },
  {
   "cell_type": "code",
   "execution_count": 3,
   "id": "c6770bad-4355-4896-bf9f-a48ceebd34b9",
   "metadata": {
    "tags": []
   },
   "outputs": [
    {
     "name": "stdout",
     "output_type": "stream",
     "text": [
      "A -> A 최단 거리: 0\n",
      "A -> B 최단 거리: 30\n",
      "A -> C 최단 거리: inf\n",
      "A -> D 최단 거리: 0\n",
      "A -> E 최단 거리: 60\n"
     ]
    }
   ],
   "source": [
    "BellmanFord_Algorithm(G, V, 0)"
   ]
  },
  {
   "cell_type": "code",
   "execution_count": null,
   "id": "fdda2b07-b616-499c-b2f2-45a2340d6032",
   "metadata": {},
   "outputs": [],
   "source": []
  }
 ],
 "metadata": {
  "kernelspec": {
   "display_name": "Python 3 (ipykernel)",
   "language": "python",
   "name": "python3"
  },
  "language_info": {
   "codemirror_mode": {
    "name": "ipython",
    "version": 3
   },
   "file_extension": ".py",
   "mimetype": "text/x-python",
   "name": "python",
   "nbconvert_exporter": "python",
   "pygments_lexer": "ipython3",
   "version": "3.11.5"
  }
 },
 "nbformat": 4,
 "nbformat_minor": 5
}
