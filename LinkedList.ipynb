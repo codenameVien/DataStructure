{
 "cells": [
  {
   "cell_type": "code",
   "execution_count": 1,
   "id": "881b20d6-b707-4bd3-8967-c19594a842b8",
   "metadata": {},
   "outputs": [],
   "source": [
    "class employee:\n",
    "    company = 'SWU'\n",
    "    def __init__(self, name, phone):\n",
    "        self.name = name\n",
    "        self.phone = phone"
   ]
  },
  {
   "cell_type": "code",
   "execution_count": 2,
   "id": "a9c4514c-3aec-40d1-8979-b76520660658",
   "metadata": {
    "tags": []
   },
   "outputs": [],
   "source": [
    "dong = employee(\"dong\", \"01012345678\")\n",
    "soon = employee(\"soon\", \"01056789123\")"
   ]
  },
  {
   "cell_type": "code",
   "execution_count": 3,
   "id": "41f394ce-7b3e-4a16-bd17-ae29e8ec8a44",
   "metadata": {
    "tags": []
   },
   "outputs": [
    {
     "name": "stdout",
     "output_type": "stream",
     "text": [
      "First : dong 01012345678\n",
      "Second : soon 01056789123\n"
     ]
    }
   ],
   "source": [
    "print(\"First : {} {}\".format(dong.name, dong.phone))\n",
    "print(\"Second : {} {}\".format(soon.name, soon.phone))"
   ]
  },
  {
   "cell_type": "code",
   "execution_count": 4,
   "id": "ce2026b9-e95a-4bd7-a4af-f589116d3b59",
   "metadata": {
    "tags": []
   },
   "outputs": [
    {
     "data": {
      "text/plain": [
       "'SWU'"
      ]
     },
     "execution_count": 4,
     "metadata": {},
     "output_type": "execute_result"
    }
   ],
   "source": [
    "dong.company"
   ]
  },
  {
   "cell_type": "code",
   "execution_count": 5,
   "id": "e2fa667a-32ba-4dae-ac0e-036b5a05f393",
   "metadata": {
    "tags": []
   },
   "outputs": [
    {
     "data": {
      "text/plain": [
       "'SWU'"
      ]
     },
     "execution_count": 5,
     "metadata": {},
     "output_type": "execute_result"
    }
   ],
   "source": [
    "soon.company"
   ]
  },
  {
   "cell_type": "code",
   "execution_count": 6,
   "id": "16f6985b-6cf9-4b8a-a470-52170ae4b42c",
   "metadata": {
    "tags": []
   },
   "outputs": [],
   "source": [
    "dong.name=\"ddong\""
   ]
  },
  {
   "cell_type": "code",
   "execution_count": 7,
   "id": "71bec6a8-dba8-4fd3-b2f5-6fe9147578e5",
   "metadata": {},
   "outputs": [
    {
     "name": "stdout",
     "output_type": "stream",
     "text": [
      "First : ddong 01012345678\n"
     ]
    }
   ],
   "source": [
    "print(\"First : {} {}\".format(dong.name, dong.phone))"
   ]
  },
  {
   "cell_type": "code",
   "execution_count": null,
   "id": "1effb202-0338-4f38-869e-540d590fe32b",
   "metadata": {},
   "outputs": [],
   "source": []
  },
  {
   "cell_type": "code",
   "execution_count": null,
   "id": "93c20cae-86a1-448a-b48e-edb73725b999",
   "metadata": {},
   "outputs": [],
   "source": []
  },
  {
   "cell_type": "code",
   "execution_count": 8,
   "id": "e1414947-ec0e-4db3-8635-f29a01b346fa",
   "metadata": {
    "tags": []
   },
   "outputs": [],
   "source": [
    "#양방향 Linked List 구현\n",
    "class node:\n",
    "    def __init__(self, data, prev, next):\n",
    "        self.data = data\n",
    "        self.prev = prev\n",
    "        self.next = next\n"
   ]
  },
  {
   "cell_type": "code",
   "execution_count": 9,
   "id": "42b94c6b-2700-407f-8618-817e52b19d08",
   "metadata": {
    "tags": []
   },
   "outputs": [],
   "source": [
    "# 데이터 삽입 - (B를 A와 C사이에 삽입할래요\n",
    "def node_insert(value, position): \n",
    "    new_node = node(value, position, position.next)\n",
    "    new_node.prev.next= new_node\n",
    "    # B.prev.next = A.next      =     B\n",
    "    new_node.next.prev = new_node \n",
    "    # B.next.prev = C.prev          = B\n",
    "    return new_node"
   ]
  },
  {
   "cell_type": "code",
   "execution_count": 10,
   "id": "dc7bfd33-71e6-4b6d-97be-2b1dc44e3a71",
   "metadata": {
    "tags": []
   },
   "outputs": [],
   "source": [
    "#데이터 삭ㅈㅔ (B를 삭제할래요\n",
    "def node_delete(input_node):\n",
    "    input_node.prev.next = input_node.next\n",
    "    # B.prev.next A.next =      B.prev = C   \n",
    "    input_node.next.prev = input_node.prev\n",
    "    # B.next.prev = C.prev =         B.prev = A\n",
    "    "
   ]
  },
  {
   "cell_type": "code",
   "execution_count": 11,
   "id": "d3494857-26b0-49f0-8ab2-4885d1a4a622",
   "metadata": {
    "tags": []
   },
   "outputs": [],
   "source": [
    "# 주어진 노드 부터 시작해 데이터 순회\n",
    "def visit_all(input_node):\n",
    "    now_node = input_node\n",
    "    while True:\n",
    "        print(now_node.data) \n",
    "        now_node = now_node.next #현재 노드를 다음 노드의 위치로 이동\n",
    "        if now_node.data == None: #끝을 만나면 종료\n",
    "            break"
   ]
  },
  {
   "cell_type": "code",
   "execution_count": 12,
   "id": "616dfa38-60c2-4062-b03c-44a0640b2d65",
   "metadata": {
    "tags": []
   },
   "outputs": [],
   "source": [
    "head =node(None,None,None)\n",
    "tail = node(None,None,None)"
   ]
  },
  {
   "cell_type": "code",
   "execution_count": 13,
   "id": "8349a771-0cc0-46a5-8f98-47e9049920dd",
   "metadata": {
    "tags": []
   },
   "outputs": [],
   "source": [
    "head.next= tail\n",
    "tail.prev= head"
   ]
  },
  {
   "cell_type": "code",
   "execution_count": 14,
   "id": "e770e930-3914-46cf-80e4-c594aad3d1a0",
   "metadata": {
    "tags": []
   },
   "outputs": [],
   "source": [
    "N1 = node_insert('A', head) #A를 head뒤에 넣을꺼야"
   ]
  },
  {
   "cell_type": "code",
   "execution_count": 15,
   "id": "ef0b7ccb-9421-422c-8112-bd3040066492",
   "metadata": {
    "tags": []
   },
   "outputs": [],
   "source": [
    "N2 = node_insert('B', N1) #B를 N1 뒤에 넣을꺼야"
   ]
  },
  {
   "cell_type": "code",
   "execution_count": 16,
   "id": "9443d499-41f2-4353-992d-168333e5b5c7",
   "metadata": {
    "tags": []
   },
   "outputs": [],
   "source": [
    "N3 = node_insert('C', head) #head 뒤에 넣을꺼야 "
   ]
  },
  {
   "cell_type": "code",
   "execution_count": 17,
   "id": "6a70f111-d32d-4446-90b5-d1d767c996fb",
   "metadata": {
    "tags": []
   },
   "outputs": [
    {
     "name": "stdout",
     "output_type": "stream",
     "text": [
      "None\n",
      "C\n",
      "A\n",
      "B\n"
     ]
    }
   ],
   "source": [
    "visit_all(head)\n",
    "# None ##head값\n",
    "#C\n",
    "#A\n",
    "#B"
   ]
  },
  {
   "cell_type": "code",
   "execution_count": 18,
   "id": "6528f1e9-2bf2-4c6e-9f9a-0e90bd142190",
   "metadata": {
    "tags": []
   },
   "outputs": [],
   "source": [
    "node_delete(N2)"
   ]
  },
  {
   "cell_type": "code",
   "execution_count": 19,
   "id": "26846150-39af-4e1a-8c70-8510229df838",
   "metadata": {
    "tags": []
   },
   "outputs": [
    {
     "name": "stdout",
     "output_type": "stream",
     "text": [
      "None\n",
      "C\n",
      "A\n"
     ]
    }
   ],
   "source": [
    "visit_all(head)\n",
    "#None\n",
    "#C\n",
    "#A"
   ]
  },
  {
   "cell_type": "code",
   "execution_count": 20,
   "id": "88033aee-cd15-4339-8dc1-bd849b60a3d7",
   "metadata": {
    "tags": []
   },
   "outputs": [],
   "source": [
    "#여기서 C 지우려면 N3 노드를 지워야함 (node_delete(N3) )"
   ]
  },
  {
   "cell_type": "code",
   "execution_count": 21,
   "id": "f76f7171-0cc0-430b-b1af-0d44f2be238c",
   "metadata": {},
   "outputs": [],
   "source": [
    "# 반대 방향으로 데이터 순회하는 코드\n",
    "def visit_all(input_node):\n",
    "    now_node = input_node\n",
    "    while True:\n",
    "        print(now_node.data)\n",
    "        now_node == now_node.prev #현재 노드를 다음 노드의 위치로 이동\n",
    "        if now_node.data == None:\n",
    "            break"
   ]
  }
 ],
 "metadata": {
  "kernelspec": {
   "display_name": "Python 3 (ipykernel)",
   "language": "python",
   "name": "python3"
  },
  "language_info": {
   "codemirror_mode": {
    "name": "ipython",
    "version": 3
   },
   "file_extension": ".py",
   "mimetype": "text/x-python",
   "name": "python",
   "nbconvert_exporter": "python",
   "pygments_lexer": "ipython3",
   "version": "3.11.5"
  }
 },
 "nbformat": 4,
 "nbformat_minor": 5
}
